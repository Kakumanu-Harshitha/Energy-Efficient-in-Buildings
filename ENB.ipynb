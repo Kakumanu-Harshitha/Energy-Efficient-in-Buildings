{
  "nbformat": 4,
  "nbformat_minor": 0,
  "metadata": {
    "colab": {
      "provenance": [],
      "include_colab_link": true
    },
    "kernelspec": {
      "name": "python3",
      "display_name": "Python 3"
    },
    "language_info": {
      "name": "python"
    }
  },
  "cells": [
    {
      "cell_type": "markdown",
      "metadata": {
        "id": "view-in-github",
        "colab_type": "text"
      },
      "source": [
        "<a href=\"https://colab.research.google.com/github/Kakumanu-Harshitha/Energy-Efficient-in-Buildings/blob/main/ENB.ipynb\" target=\"_parent\"><img src=\"https://colab.research.google.com/assets/colab-badge.svg\" alt=\"Open In Colab\"/></a>"
      ]
    },
    {
      "cell_type": "markdown",
      "source": [
        "# **Energy Efficiency in Buildings**\n",
        "The ENB dataset focuses on predicting energy consumption in buildings, specifically in terms of heating load and cooling load. It is a valuable resource for studying building energy efficiency, as it includes various features like the building’s orientation, the size of windows and walls, and temperature factors.\n",
        "\n",
        "\n",
        "\n",
        "\n"
      ],
      "metadata": {
        "id": "-EyiAZ58TVhN"
      }
    },
    {
      "cell_type": "markdown",
      "source": [
        "# Steps to build the model"
      ],
      "metadata": {
        "id": "jxt1V5j0h5CZ"
      }
    },
    {
      "cell_type": "markdown",
      "source": [
        " 1.Import libraries\n",
        "\n",
        " 2.Import Dataset\n",
        "\n",
        " 3.Data Exploration\n",
        "\n",
        " 4.Data preprocessing\n",
        "\n",
        "   \n",
        "\n",
        "   *   Finding and filling missing values\n",
        "   *Feature and Target Variable Separation\n",
        "\n",
        "   *   Normalization\n",
        "   *   splitting into train and test data\n",
        "\n",
        "\n",
        " 5.Algorithm Evaluation and Comparison\n",
        "\n",
        "      a.Support Vector Regression\n",
        "\n",
        "      b.Linear Regression\n",
        "\n",
        "      c.Desicion Tree Regression\n",
        "\n",
        "      d.Random Forest Regression\n",
        "\n",
        "      e.Gradient Boost Regression\n",
        "\n",
        "      f.Polynomial Regression **\n",
        "6.Model Performance Metrics Overview\n",
        "\n",
        "7.Best Algorithm Selection\n",
        "\n",
        "\n",
        "    \n",
        "\n"
      ],
      "metadata": {
        "id": "PscZx2q3eR35"
      }
    },
    {
      "cell_type": "markdown",
      "source": [
        "# 1.Import libraries"
      ],
      "metadata": {
        "id": "7a5RiUMUl4JA"
      }
    },
    {
      "cell_type": "code",
      "execution_count": null,
      "metadata": {
        "id": "JevUAeJElJ6R"
      },
      "outputs": [],
      "source": [
        "import numpy as np\n",
        "import pandas as pd\n",
        "import matplotlib.pyplot as plt\n",
        "import warnings\n",
        "warnings.filterwarnings('ignore')"
      ]
    },
    {
      "cell_type": "markdown",
      "source": [
        "# 2.Import Dataset\n",
        "Reference from kaggle: https://www.kaggle.com/datasets/ahmettademir/enb2012\n",
        "\n"
      ],
      "metadata": {
        "id": "1B82atSwl0_c"
      }
    },
    {
      "cell_type": "code",
      "source": [
        "df = pd.read_csv(\"ENB2012_data.csv\")\n",
        "df.head()"
      ],
      "metadata": {
        "colab": {
          "base_uri": "https://localhost:8080/",
          "height": 206
        },
        "id": "IwcmAN2JmWFC",
        "outputId": "49157eba-37fe-48a9-d42e-64e17c73e835"
      },
      "execution_count": null,
      "outputs": [
        {
          "output_type": "execute_result",
          "data": {
            "text/plain": [
              "     X1     X2     X3      X4   X5  X6   X7  X8     Y1     Y2\n",
              "0  0.98  514.5  294.0  110.25  7.0   2  0.0   0  15.55  21.33\n",
              "1  0.98  514.5  294.0  110.25  7.0   3  0.0   0  15.55  21.33\n",
              "2  0.98  514.5  294.0  110.25  7.0   4  0.0   0  15.55  21.33\n",
              "3  0.98  514.5  294.0  110.25  7.0   5  0.0   0  15.55  21.33\n",
              "4  0.90  563.5  318.5  122.50  7.0   2  0.0   0  20.84  28.28"
            ],
            "text/html": [
              "\n",
              "  <div id=\"df-383789f2-49c4-4fc1-9594-1c0c7dfe8899\" class=\"colab-df-container\">\n",
              "    <div>\n",
              "<style scoped>\n",
              "    .dataframe tbody tr th:only-of-type {\n",
              "        vertical-align: middle;\n",
              "    }\n",
              "\n",
              "    .dataframe tbody tr th {\n",
              "        vertical-align: top;\n",
              "    }\n",
              "\n",
              "    .dataframe thead th {\n",
              "        text-align: right;\n",
              "    }\n",
              "</style>\n",
              "<table border=\"1\" class=\"dataframe\">\n",
              "  <thead>\n",
              "    <tr style=\"text-align: right;\">\n",
              "      <th></th>\n",
              "      <th>X1</th>\n",
              "      <th>X2</th>\n",
              "      <th>X3</th>\n",
              "      <th>X4</th>\n",
              "      <th>X5</th>\n",
              "      <th>X6</th>\n",
              "      <th>X7</th>\n",
              "      <th>X8</th>\n",
              "      <th>Y1</th>\n",
              "      <th>Y2</th>\n",
              "    </tr>\n",
              "  </thead>\n",
              "  <tbody>\n",
              "    <tr>\n",
              "      <th>0</th>\n",
              "      <td>0.98</td>\n",
              "      <td>514.5</td>\n",
              "      <td>294.0</td>\n",
              "      <td>110.25</td>\n",
              "      <td>7.0</td>\n",
              "      <td>2</td>\n",
              "      <td>0.0</td>\n",
              "      <td>0</td>\n",
              "      <td>15.55</td>\n",
              "      <td>21.33</td>\n",
              "    </tr>\n",
              "    <tr>\n",
              "      <th>1</th>\n",
              "      <td>0.98</td>\n",
              "      <td>514.5</td>\n",
              "      <td>294.0</td>\n",
              "      <td>110.25</td>\n",
              "      <td>7.0</td>\n",
              "      <td>3</td>\n",
              "      <td>0.0</td>\n",
              "      <td>0</td>\n",
              "      <td>15.55</td>\n",
              "      <td>21.33</td>\n",
              "    </tr>\n",
              "    <tr>\n",
              "      <th>2</th>\n",
              "      <td>0.98</td>\n",
              "      <td>514.5</td>\n",
              "      <td>294.0</td>\n",
              "      <td>110.25</td>\n",
              "      <td>7.0</td>\n",
              "      <td>4</td>\n",
              "      <td>0.0</td>\n",
              "      <td>0</td>\n",
              "      <td>15.55</td>\n",
              "      <td>21.33</td>\n",
              "    </tr>\n",
              "    <tr>\n",
              "      <th>3</th>\n",
              "      <td>0.98</td>\n",
              "      <td>514.5</td>\n",
              "      <td>294.0</td>\n",
              "      <td>110.25</td>\n",
              "      <td>7.0</td>\n",
              "      <td>5</td>\n",
              "      <td>0.0</td>\n",
              "      <td>0</td>\n",
              "      <td>15.55</td>\n",
              "      <td>21.33</td>\n",
              "    </tr>\n",
              "    <tr>\n",
              "      <th>4</th>\n",
              "      <td>0.90</td>\n",
              "      <td>563.5</td>\n",
              "      <td>318.5</td>\n",
              "      <td>122.50</td>\n",
              "      <td>7.0</td>\n",
              "      <td>2</td>\n",
              "      <td>0.0</td>\n",
              "      <td>0</td>\n",
              "      <td>20.84</td>\n",
              "      <td>28.28</td>\n",
              "    </tr>\n",
              "  </tbody>\n",
              "</table>\n",
              "</div>\n",
              "    <div class=\"colab-df-buttons\">\n",
              "\n",
              "  <div class=\"colab-df-container\">\n",
              "    <button class=\"colab-df-convert\" onclick=\"convertToInteractive('df-383789f2-49c4-4fc1-9594-1c0c7dfe8899')\"\n",
              "            title=\"Convert this dataframe to an interactive table.\"\n",
              "            style=\"display:none;\">\n",
              "\n",
              "  <svg xmlns=\"http://www.w3.org/2000/svg\" height=\"24px\" viewBox=\"0 -960 960 960\">\n",
              "    <path d=\"M120-120v-720h720v720H120Zm60-500h600v-160H180v160Zm220 220h160v-160H400v160Zm0 220h160v-160H400v160ZM180-400h160v-160H180v160Zm440 0h160v-160H620v160ZM180-180h160v-160H180v160Zm440 0h160v-160H620v160Z\"/>\n",
              "  </svg>\n",
              "    </button>\n",
              "\n",
              "  <style>\n",
              "    .colab-df-container {\n",
              "      display:flex;\n",
              "      gap: 12px;\n",
              "    }\n",
              "\n",
              "    .colab-df-convert {\n",
              "      background-color: #E8F0FE;\n",
              "      border: none;\n",
              "      border-radius: 50%;\n",
              "      cursor: pointer;\n",
              "      display: none;\n",
              "      fill: #1967D2;\n",
              "      height: 32px;\n",
              "      padding: 0 0 0 0;\n",
              "      width: 32px;\n",
              "    }\n",
              "\n",
              "    .colab-df-convert:hover {\n",
              "      background-color: #E2EBFA;\n",
              "      box-shadow: 0px 1px 2px rgba(60, 64, 67, 0.3), 0px 1px 3px 1px rgba(60, 64, 67, 0.15);\n",
              "      fill: #174EA6;\n",
              "    }\n",
              "\n",
              "    .colab-df-buttons div {\n",
              "      margin-bottom: 4px;\n",
              "    }\n",
              "\n",
              "    [theme=dark] .colab-df-convert {\n",
              "      background-color: #3B4455;\n",
              "      fill: #D2E3FC;\n",
              "    }\n",
              "\n",
              "    [theme=dark] .colab-df-convert:hover {\n",
              "      background-color: #434B5C;\n",
              "      box-shadow: 0px 1px 3px 1px rgba(0, 0, 0, 0.15);\n",
              "      filter: drop-shadow(0px 1px 2px rgba(0, 0, 0, 0.3));\n",
              "      fill: #FFFFFF;\n",
              "    }\n",
              "  </style>\n",
              "\n",
              "    <script>\n",
              "      const buttonEl =\n",
              "        document.querySelector('#df-383789f2-49c4-4fc1-9594-1c0c7dfe8899 button.colab-df-convert');\n",
              "      buttonEl.style.display =\n",
              "        google.colab.kernel.accessAllowed ? 'block' : 'none';\n",
              "\n",
              "      async function convertToInteractive(key) {\n",
              "        const element = document.querySelector('#df-383789f2-49c4-4fc1-9594-1c0c7dfe8899');\n",
              "        const dataTable =\n",
              "          await google.colab.kernel.invokeFunction('convertToInteractive',\n",
              "                                                    [key], {});\n",
              "        if (!dataTable) return;\n",
              "\n",
              "        const docLinkHtml = 'Like what you see? Visit the ' +\n",
              "          '<a target=\"_blank\" href=https://colab.research.google.com/notebooks/data_table.ipynb>data table notebook</a>'\n",
              "          + ' to learn more about interactive tables.';\n",
              "        element.innerHTML = '';\n",
              "        dataTable['output_type'] = 'display_data';\n",
              "        await google.colab.output.renderOutput(dataTable, element);\n",
              "        const docLink = document.createElement('div');\n",
              "        docLink.innerHTML = docLinkHtml;\n",
              "        element.appendChild(docLink);\n",
              "      }\n",
              "    </script>\n",
              "  </div>\n",
              "\n",
              "\n",
              "<div id=\"df-b7277e7c-fc9f-4e97-8122-d575f442d555\">\n",
              "  <button class=\"colab-df-quickchart\" onclick=\"quickchart('df-b7277e7c-fc9f-4e97-8122-d575f442d555')\"\n",
              "            title=\"Suggest charts\"\n",
              "            style=\"display:none;\">\n",
              "\n",
              "<svg xmlns=\"http://www.w3.org/2000/svg\" height=\"24px\"viewBox=\"0 0 24 24\"\n",
              "     width=\"24px\">\n",
              "    <g>\n",
              "        <path d=\"M19 3H5c-1.1 0-2 .9-2 2v14c0 1.1.9 2 2 2h14c1.1 0 2-.9 2-2V5c0-1.1-.9-2-2-2zM9 17H7v-7h2v7zm4 0h-2V7h2v10zm4 0h-2v-4h2v4z\"/>\n",
              "    </g>\n",
              "</svg>\n",
              "  </button>\n",
              "\n",
              "<style>\n",
              "  .colab-df-quickchart {\n",
              "      --bg-color: #E8F0FE;\n",
              "      --fill-color: #1967D2;\n",
              "      --hover-bg-color: #E2EBFA;\n",
              "      --hover-fill-color: #174EA6;\n",
              "      --disabled-fill-color: #AAA;\n",
              "      --disabled-bg-color: #DDD;\n",
              "  }\n",
              "\n",
              "  [theme=dark] .colab-df-quickchart {\n",
              "      --bg-color: #3B4455;\n",
              "      --fill-color: #D2E3FC;\n",
              "      --hover-bg-color: #434B5C;\n",
              "      --hover-fill-color: #FFFFFF;\n",
              "      --disabled-bg-color: #3B4455;\n",
              "      --disabled-fill-color: #666;\n",
              "  }\n",
              "\n",
              "  .colab-df-quickchart {\n",
              "    background-color: var(--bg-color);\n",
              "    border: none;\n",
              "    border-radius: 50%;\n",
              "    cursor: pointer;\n",
              "    display: none;\n",
              "    fill: var(--fill-color);\n",
              "    height: 32px;\n",
              "    padding: 0;\n",
              "    width: 32px;\n",
              "  }\n",
              "\n",
              "  .colab-df-quickchart:hover {\n",
              "    background-color: var(--hover-bg-color);\n",
              "    box-shadow: 0 1px 2px rgba(60, 64, 67, 0.3), 0 1px 3px 1px rgba(60, 64, 67, 0.15);\n",
              "    fill: var(--button-hover-fill-color);\n",
              "  }\n",
              "\n",
              "  .colab-df-quickchart-complete:disabled,\n",
              "  .colab-df-quickchart-complete:disabled:hover {\n",
              "    background-color: var(--disabled-bg-color);\n",
              "    fill: var(--disabled-fill-color);\n",
              "    box-shadow: none;\n",
              "  }\n",
              "\n",
              "  .colab-df-spinner {\n",
              "    border: 2px solid var(--fill-color);\n",
              "    border-color: transparent;\n",
              "    border-bottom-color: var(--fill-color);\n",
              "    animation:\n",
              "      spin 1s steps(1) infinite;\n",
              "  }\n",
              "\n",
              "  @keyframes spin {\n",
              "    0% {\n",
              "      border-color: transparent;\n",
              "      border-bottom-color: var(--fill-color);\n",
              "      border-left-color: var(--fill-color);\n",
              "    }\n",
              "    20% {\n",
              "      border-color: transparent;\n",
              "      border-left-color: var(--fill-color);\n",
              "      border-top-color: var(--fill-color);\n",
              "    }\n",
              "    30% {\n",
              "      border-color: transparent;\n",
              "      border-left-color: var(--fill-color);\n",
              "      border-top-color: var(--fill-color);\n",
              "      border-right-color: var(--fill-color);\n",
              "    }\n",
              "    40% {\n",
              "      border-color: transparent;\n",
              "      border-right-color: var(--fill-color);\n",
              "      border-top-color: var(--fill-color);\n",
              "    }\n",
              "    60% {\n",
              "      border-color: transparent;\n",
              "      border-right-color: var(--fill-color);\n",
              "    }\n",
              "    80% {\n",
              "      border-color: transparent;\n",
              "      border-right-color: var(--fill-color);\n",
              "      border-bottom-color: var(--fill-color);\n",
              "    }\n",
              "    90% {\n",
              "      border-color: transparent;\n",
              "      border-bottom-color: var(--fill-color);\n",
              "    }\n",
              "  }\n",
              "</style>\n",
              "\n",
              "  <script>\n",
              "    async function quickchart(key) {\n",
              "      const quickchartButtonEl =\n",
              "        document.querySelector('#' + key + ' button');\n",
              "      quickchartButtonEl.disabled = true;  // To prevent multiple clicks.\n",
              "      quickchartButtonEl.classList.add('colab-df-spinner');\n",
              "      try {\n",
              "        const charts = await google.colab.kernel.invokeFunction(\n",
              "            'suggestCharts', [key], {});\n",
              "      } catch (error) {\n",
              "        console.error('Error during call to suggestCharts:', error);\n",
              "      }\n",
              "      quickchartButtonEl.classList.remove('colab-df-spinner');\n",
              "      quickchartButtonEl.classList.add('colab-df-quickchart-complete');\n",
              "    }\n",
              "    (() => {\n",
              "      let quickchartButtonEl =\n",
              "        document.querySelector('#df-b7277e7c-fc9f-4e97-8122-d575f442d555 button');\n",
              "      quickchartButtonEl.style.display =\n",
              "        google.colab.kernel.accessAllowed ? 'block' : 'none';\n",
              "    })();\n",
              "  </script>\n",
              "</div>\n",
              "\n",
              "    </div>\n",
              "  </div>\n"
            ],
            "application/vnd.google.colaboratory.intrinsic+json": {
              "type": "dataframe",
              "variable_name": "df",
              "summary": "{\n  \"name\": \"df\",\n  \"rows\": 768,\n  \"fields\": [\n    {\n      \"column\": \"X1\",\n      \"properties\": {\n        \"dtype\": \"number\",\n        \"std\": 0.10577747587475206,\n        \"min\": 0.62,\n        \"max\": 0.98,\n        \"num_unique_values\": 12,\n        \"samples\": [\n          0.64,\n          0.66,\n          0.98\n        ],\n        \"semantic_type\": \"\",\n        \"description\": \"\"\n      }\n    },\n    {\n      \"column\": \"X2\",\n      \"properties\": {\n        \"dtype\": \"number\",\n        \"std\": 88.08611605586826,\n        \"min\": 514.5,\n        \"max\": 808.5,\n        \"num_unique_values\": 12,\n        \"samples\": [\n          784.0,\n          759.5,\n          514.5\n        ],\n        \"semantic_type\": \"\",\n        \"description\": \"\"\n      }\n    },\n    {\n      \"column\": \"X3\",\n      \"properties\": {\n        \"dtype\": \"number\",\n        \"std\": 43.6264814379949,\n        \"min\": 245.0,\n        \"max\": 416.5,\n        \"num_unique_values\": 7,\n        \"samples\": [\n          294.0,\n          318.5,\n          269.5\n        ],\n        \"semantic_type\": \"\",\n        \"description\": \"\"\n      }\n    },\n    {\n      \"column\": \"X4\",\n      \"properties\": {\n        \"dtype\": \"number\",\n        \"std\": 45.165950222920344,\n        \"min\": 110.25,\n        \"max\": 220.5,\n        \"num_unique_values\": 4,\n        \"samples\": [\n          122.5,\n          220.5,\n          110.25\n        ],\n        \"semantic_type\": \"\",\n        \"description\": \"\"\n      }\n    },\n    {\n      \"column\": \"X5\",\n      \"properties\": {\n        \"dtype\": \"number\",\n        \"std\": 1.7511404367453496,\n        \"min\": 3.5,\n        \"max\": 7.0,\n        \"num_unique_values\": 2,\n        \"samples\": [\n          3.5,\n          7.0\n        ],\n        \"semantic_type\": \"\",\n        \"description\": \"\"\n      }\n    },\n    {\n      \"column\": \"X6\",\n      \"properties\": {\n        \"dtype\": \"number\",\n        \"std\": 1,\n        \"min\": 2,\n        \"max\": 5,\n        \"num_unique_values\": 4,\n        \"samples\": [\n          3,\n          5\n        ],\n        \"semantic_type\": \"\",\n        \"description\": \"\"\n      }\n    },\n    {\n      \"column\": \"X7\",\n      \"properties\": {\n        \"dtype\": \"number\",\n        \"std\": 0.13322056291470877,\n        \"min\": 0.0,\n        \"max\": 0.4,\n        \"num_unique_values\": 4,\n        \"samples\": [\n          0.1,\n          0.4\n        ],\n        \"semantic_type\": \"\",\n        \"description\": \"\"\n      }\n    },\n    {\n      \"column\": \"X8\",\n      \"properties\": {\n        \"dtype\": \"number\",\n        \"std\": 1,\n        \"min\": 0,\n        \"max\": 5,\n        \"num_unique_values\": 6,\n        \"samples\": [\n          0,\n          1\n        ],\n        \"semantic_type\": \"\",\n        \"description\": \"\"\n      }\n    },\n    {\n      \"column\": \"Y1\",\n      \"properties\": {\n        \"dtype\": \"number\",\n        \"std\": 10.090195732006162,\n        \"min\": 6.01,\n        \"max\": 43.1,\n        \"num_unique_values\": 586,\n        \"samples\": [\n          16.47,\n          24.94\n        ],\n        \"semantic_type\": \"\",\n        \"description\": \"\"\n      }\n    },\n    {\n      \"column\": \"Y2\",\n      \"properties\": {\n        \"dtype\": \"number\",\n        \"std\": 9.513305562326163,\n        \"min\": 10.9,\n        \"max\": 48.03,\n        \"num_unique_values\": 636,\n        \"samples\": [\n          21.09,\n          20.82\n        ],\n        \"semantic_type\": \"\",\n        \"description\": \"\"\n      }\n    }\n  ]\n}"
            }
          },
          "metadata": {},
          "execution_count": 31
        }
      ]
    },
    {
      "cell_type": "code",
      "source": [
        "df.shape"
      ],
      "metadata": {
        "colab": {
          "base_uri": "https://localhost:8080/"
        },
        "id": "ltCK6nA3mtWq",
        "outputId": "f139d1af-3673-4a46-f681-f1a136e000da"
      },
      "execution_count": null,
      "outputs": [
        {
          "output_type": "execute_result",
          "data": {
            "text/plain": [
              "(768, 10)"
            ]
          },
          "metadata": {},
          "execution_count": 3
        }
      ]
    },
    {
      "cell_type": "markdown",
      "source": [
        "To find the shape of the dataset"
      ],
      "metadata": {
        "id": "rdgYxjLcbbRl"
      }
    },
    {
      "cell_type": "code",
      "source": [
        "df.info()"
      ],
      "metadata": {
        "colab": {
          "base_uri": "https://localhost:8080/"
        },
        "id": "OfIeD7-Rmynq",
        "outputId": "46b2dcd6-7d5d-40d1-f6e9-e19670366b99"
      },
      "execution_count": null,
      "outputs": [
        {
          "output_type": "stream",
          "name": "stdout",
          "text": [
            "<class 'pandas.core.frame.DataFrame'>\n",
            "RangeIndex: 768 entries, 0 to 767\n",
            "Data columns (total 10 columns):\n",
            " #   Column  Non-Null Count  Dtype  \n",
            "---  ------  --------------  -----  \n",
            " 0   X1      768 non-null    float64\n",
            " 1   X2      768 non-null    float64\n",
            " 2   X3      768 non-null    float64\n",
            " 3   X4      768 non-null    float64\n",
            " 4   X5      768 non-null    float64\n",
            " 5   X6      768 non-null    int64  \n",
            " 6   X7      768 non-null    float64\n",
            " 7   X8      768 non-null    int64  \n",
            " 8   Y1      768 non-null    float64\n",
            " 9   Y2      768 non-null    float64\n",
            "dtypes: float64(8), int64(2)\n",
            "memory usage: 60.1 KB\n"
          ]
        }
      ]
    },
    {
      "cell_type": "markdown",
      "source": [
        " Info() is used to understand the structure of the dataset, detect data types, and check for missing values."
      ],
      "metadata": {
        "id": "sAO-awYwcPCD"
      }
    },
    {
      "cell_type": "code",
      "source": [
        "df.describe().T"
      ],
      "metadata": {
        "colab": {
          "base_uri": "https://localhost:8080/",
          "height": 363
        },
        "id": "IkGVRV7mmvSk",
        "outputId": "4163c968-8440-47c0-ee69-8fc5ed4eb0dc"
      },
      "execution_count": null,
      "outputs": [
        {
          "output_type": "execute_result",
          "data": {
            "text/plain": [
              "    count        mean        std     min       25%     50%       75%     max\n",
              "X1  768.0    0.764167   0.105777    0.62    0.6825    0.75    0.8300    0.98\n",
              "X2  768.0  671.708333  88.086116  514.50  606.3750  673.75  741.1250  808.50\n",
              "X3  768.0  318.500000  43.626481  245.00  294.0000  318.50  343.0000  416.50\n",
              "X4  768.0  176.604167  45.165950  110.25  140.8750  183.75  220.5000  220.50\n",
              "X5  768.0    5.250000   1.751140    3.50    3.5000    5.25    7.0000    7.00\n",
              "X6  768.0    3.500000   1.118763    2.00    2.7500    3.50    4.2500    5.00\n",
              "X7  768.0    0.234375   0.133221    0.00    0.1000    0.25    0.4000    0.40\n",
              "X8  768.0    2.812500   1.550960    0.00    1.7500    3.00    4.0000    5.00\n",
              "Y1  768.0   22.307201  10.090196    6.01   12.9925   18.95   31.6675   43.10\n",
              "Y2  768.0   24.587760   9.513306   10.90   15.6200   22.08   33.1325   48.03"
            ],
            "text/html": [
              "\n",
              "  <div id=\"df-8fd04cbc-8c08-4394-9984-a6c26eb1110a\" class=\"colab-df-container\">\n",
              "    <div>\n",
              "<style scoped>\n",
              "    .dataframe tbody tr th:only-of-type {\n",
              "        vertical-align: middle;\n",
              "    }\n",
              "\n",
              "    .dataframe tbody tr th {\n",
              "        vertical-align: top;\n",
              "    }\n",
              "\n",
              "    .dataframe thead th {\n",
              "        text-align: right;\n",
              "    }\n",
              "</style>\n",
              "<table border=\"1\" class=\"dataframe\">\n",
              "  <thead>\n",
              "    <tr style=\"text-align: right;\">\n",
              "      <th></th>\n",
              "      <th>count</th>\n",
              "      <th>mean</th>\n",
              "      <th>std</th>\n",
              "      <th>min</th>\n",
              "      <th>25%</th>\n",
              "      <th>50%</th>\n",
              "      <th>75%</th>\n",
              "      <th>max</th>\n",
              "    </tr>\n",
              "  </thead>\n",
              "  <tbody>\n",
              "    <tr>\n",
              "      <th>X1</th>\n",
              "      <td>768.0</td>\n",
              "      <td>0.764167</td>\n",
              "      <td>0.105777</td>\n",
              "      <td>0.62</td>\n",
              "      <td>0.6825</td>\n",
              "      <td>0.75</td>\n",
              "      <td>0.8300</td>\n",
              "      <td>0.98</td>\n",
              "    </tr>\n",
              "    <tr>\n",
              "      <th>X2</th>\n",
              "      <td>768.0</td>\n",
              "      <td>671.708333</td>\n",
              "      <td>88.086116</td>\n",
              "      <td>514.50</td>\n",
              "      <td>606.3750</td>\n",
              "      <td>673.75</td>\n",
              "      <td>741.1250</td>\n",
              "      <td>808.50</td>\n",
              "    </tr>\n",
              "    <tr>\n",
              "      <th>X3</th>\n",
              "      <td>768.0</td>\n",
              "      <td>318.500000</td>\n",
              "      <td>43.626481</td>\n",
              "      <td>245.00</td>\n",
              "      <td>294.0000</td>\n",
              "      <td>318.50</td>\n",
              "      <td>343.0000</td>\n",
              "      <td>416.50</td>\n",
              "    </tr>\n",
              "    <tr>\n",
              "      <th>X4</th>\n",
              "      <td>768.0</td>\n",
              "      <td>176.604167</td>\n",
              "      <td>45.165950</td>\n",
              "      <td>110.25</td>\n",
              "      <td>140.8750</td>\n",
              "      <td>183.75</td>\n",
              "      <td>220.5000</td>\n",
              "      <td>220.50</td>\n",
              "    </tr>\n",
              "    <tr>\n",
              "      <th>X5</th>\n",
              "      <td>768.0</td>\n",
              "      <td>5.250000</td>\n",
              "      <td>1.751140</td>\n",
              "      <td>3.50</td>\n",
              "      <td>3.5000</td>\n",
              "      <td>5.25</td>\n",
              "      <td>7.0000</td>\n",
              "      <td>7.00</td>\n",
              "    </tr>\n",
              "    <tr>\n",
              "      <th>X6</th>\n",
              "      <td>768.0</td>\n",
              "      <td>3.500000</td>\n",
              "      <td>1.118763</td>\n",
              "      <td>2.00</td>\n",
              "      <td>2.7500</td>\n",
              "      <td>3.50</td>\n",
              "      <td>4.2500</td>\n",
              "      <td>5.00</td>\n",
              "    </tr>\n",
              "    <tr>\n",
              "      <th>X7</th>\n",
              "      <td>768.0</td>\n",
              "      <td>0.234375</td>\n",
              "      <td>0.133221</td>\n",
              "      <td>0.00</td>\n",
              "      <td>0.1000</td>\n",
              "      <td>0.25</td>\n",
              "      <td>0.4000</td>\n",
              "      <td>0.40</td>\n",
              "    </tr>\n",
              "    <tr>\n",
              "      <th>X8</th>\n",
              "      <td>768.0</td>\n",
              "      <td>2.812500</td>\n",
              "      <td>1.550960</td>\n",
              "      <td>0.00</td>\n",
              "      <td>1.7500</td>\n",
              "      <td>3.00</td>\n",
              "      <td>4.0000</td>\n",
              "      <td>5.00</td>\n",
              "    </tr>\n",
              "    <tr>\n",
              "      <th>Y1</th>\n",
              "      <td>768.0</td>\n",
              "      <td>22.307201</td>\n",
              "      <td>10.090196</td>\n",
              "      <td>6.01</td>\n",
              "      <td>12.9925</td>\n",
              "      <td>18.95</td>\n",
              "      <td>31.6675</td>\n",
              "      <td>43.10</td>\n",
              "    </tr>\n",
              "    <tr>\n",
              "      <th>Y2</th>\n",
              "      <td>768.0</td>\n",
              "      <td>24.587760</td>\n",
              "      <td>9.513306</td>\n",
              "      <td>10.90</td>\n",
              "      <td>15.6200</td>\n",
              "      <td>22.08</td>\n",
              "      <td>33.1325</td>\n",
              "      <td>48.03</td>\n",
              "    </tr>\n",
              "  </tbody>\n",
              "</table>\n",
              "</div>\n",
              "    <div class=\"colab-df-buttons\">\n",
              "\n",
              "  <div class=\"colab-df-container\">\n",
              "    <button class=\"colab-df-convert\" onclick=\"convertToInteractive('df-8fd04cbc-8c08-4394-9984-a6c26eb1110a')\"\n",
              "            title=\"Convert this dataframe to an interactive table.\"\n",
              "            style=\"display:none;\">\n",
              "\n",
              "  <svg xmlns=\"http://www.w3.org/2000/svg\" height=\"24px\" viewBox=\"0 -960 960 960\">\n",
              "    <path d=\"M120-120v-720h720v720H120Zm60-500h600v-160H180v160Zm220 220h160v-160H400v160Zm0 220h160v-160H400v160ZM180-400h160v-160H180v160Zm440 0h160v-160H620v160ZM180-180h160v-160H180v160Zm440 0h160v-160H620v160Z\"/>\n",
              "  </svg>\n",
              "    </button>\n",
              "\n",
              "  <style>\n",
              "    .colab-df-container {\n",
              "      display:flex;\n",
              "      gap: 12px;\n",
              "    }\n",
              "\n",
              "    .colab-df-convert {\n",
              "      background-color: #E8F0FE;\n",
              "      border: none;\n",
              "      border-radius: 50%;\n",
              "      cursor: pointer;\n",
              "      display: none;\n",
              "      fill: #1967D2;\n",
              "      height: 32px;\n",
              "      padding: 0 0 0 0;\n",
              "      width: 32px;\n",
              "    }\n",
              "\n",
              "    .colab-df-convert:hover {\n",
              "      background-color: #E2EBFA;\n",
              "      box-shadow: 0px 1px 2px rgba(60, 64, 67, 0.3), 0px 1px 3px 1px rgba(60, 64, 67, 0.15);\n",
              "      fill: #174EA6;\n",
              "    }\n",
              "\n",
              "    .colab-df-buttons div {\n",
              "      margin-bottom: 4px;\n",
              "    }\n",
              "\n",
              "    [theme=dark] .colab-df-convert {\n",
              "      background-color: #3B4455;\n",
              "      fill: #D2E3FC;\n",
              "    }\n",
              "\n",
              "    [theme=dark] .colab-df-convert:hover {\n",
              "      background-color: #434B5C;\n",
              "      box-shadow: 0px 1px 3px 1px rgba(0, 0, 0, 0.15);\n",
              "      filter: drop-shadow(0px 1px 2px rgba(0, 0, 0, 0.3));\n",
              "      fill: #FFFFFF;\n",
              "    }\n",
              "  </style>\n",
              "\n",
              "    <script>\n",
              "      const buttonEl =\n",
              "        document.querySelector('#df-8fd04cbc-8c08-4394-9984-a6c26eb1110a button.colab-df-convert');\n",
              "      buttonEl.style.display =\n",
              "        google.colab.kernel.accessAllowed ? 'block' : 'none';\n",
              "\n",
              "      async function convertToInteractive(key) {\n",
              "        const element = document.querySelector('#df-8fd04cbc-8c08-4394-9984-a6c26eb1110a');\n",
              "        const dataTable =\n",
              "          await google.colab.kernel.invokeFunction('convertToInteractive',\n",
              "                                                    [key], {});\n",
              "        if (!dataTable) return;\n",
              "\n",
              "        const docLinkHtml = 'Like what you see? Visit the ' +\n",
              "          '<a target=\"_blank\" href=https://colab.research.google.com/notebooks/data_table.ipynb>data table notebook</a>'\n",
              "          + ' to learn more about interactive tables.';\n",
              "        element.innerHTML = '';\n",
              "        dataTable['output_type'] = 'display_data';\n",
              "        await google.colab.output.renderOutput(dataTable, element);\n",
              "        const docLink = document.createElement('div');\n",
              "        docLink.innerHTML = docLinkHtml;\n",
              "        element.appendChild(docLink);\n",
              "      }\n",
              "    </script>\n",
              "  </div>\n",
              "\n",
              "\n",
              "<div id=\"df-0eb28500-bb3b-4fb3-8cd4-47c7bfe2423b\">\n",
              "  <button class=\"colab-df-quickchart\" onclick=\"quickchart('df-0eb28500-bb3b-4fb3-8cd4-47c7bfe2423b')\"\n",
              "            title=\"Suggest charts\"\n",
              "            style=\"display:none;\">\n",
              "\n",
              "<svg xmlns=\"http://www.w3.org/2000/svg\" height=\"24px\"viewBox=\"0 0 24 24\"\n",
              "     width=\"24px\">\n",
              "    <g>\n",
              "        <path d=\"M19 3H5c-1.1 0-2 .9-2 2v14c0 1.1.9 2 2 2h14c1.1 0 2-.9 2-2V5c0-1.1-.9-2-2-2zM9 17H7v-7h2v7zm4 0h-2V7h2v10zm4 0h-2v-4h2v4z\"/>\n",
              "    </g>\n",
              "</svg>\n",
              "  </button>\n",
              "\n",
              "<style>\n",
              "  .colab-df-quickchart {\n",
              "      --bg-color: #E8F0FE;\n",
              "      --fill-color: #1967D2;\n",
              "      --hover-bg-color: #E2EBFA;\n",
              "      --hover-fill-color: #174EA6;\n",
              "      --disabled-fill-color: #AAA;\n",
              "      --disabled-bg-color: #DDD;\n",
              "  }\n",
              "\n",
              "  [theme=dark] .colab-df-quickchart {\n",
              "      --bg-color: #3B4455;\n",
              "      --fill-color: #D2E3FC;\n",
              "      --hover-bg-color: #434B5C;\n",
              "      --hover-fill-color: #FFFFFF;\n",
              "      --disabled-bg-color: #3B4455;\n",
              "      --disabled-fill-color: #666;\n",
              "  }\n",
              "\n",
              "  .colab-df-quickchart {\n",
              "    background-color: var(--bg-color);\n",
              "    border: none;\n",
              "    border-radius: 50%;\n",
              "    cursor: pointer;\n",
              "    display: none;\n",
              "    fill: var(--fill-color);\n",
              "    height: 32px;\n",
              "    padding: 0;\n",
              "    width: 32px;\n",
              "  }\n",
              "\n",
              "  .colab-df-quickchart:hover {\n",
              "    background-color: var(--hover-bg-color);\n",
              "    box-shadow: 0 1px 2px rgba(60, 64, 67, 0.3), 0 1px 3px 1px rgba(60, 64, 67, 0.15);\n",
              "    fill: var(--button-hover-fill-color);\n",
              "  }\n",
              "\n",
              "  .colab-df-quickchart-complete:disabled,\n",
              "  .colab-df-quickchart-complete:disabled:hover {\n",
              "    background-color: var(--disabled-bg-color);\n",
              "    fill: var(--disabled-fill-color);\n",
              "    box-shadow: none;\n",
              "  }\n",
              "\n",
              "  .colab-df-spinner {\n",
              "    border: 2px solid var(--fill-color);\n",
              "    border-color: transparent;\n",
              "    border-bottom-color: var(--fill-color);\n",
              "    animation:\n",
              "      spin 1s steps(1) infinite;\n",
              "  }\n",
              "\n",
              "  @keyframes spin {\n",
              "    0% {\n",
              "      border-color: transparent;\n",
              "      border-bottom-color: var(--fill-color);\n",
              "      border-left-color: var(--fill-color);\n",
              "    }\n",
              "    20% {\n",
              "      border-color: transparent;\n",
              "      border-left-color: var(--fill-color);\n",
              "      border-top-color: var(--fill-color);\n",
              "    }\n",
              "    30% {\n",
              "      border-color: transparent;\n",
              "      border-left-color: var(--fill-color);\n",
              "      border-top-color: var(--fill-color);\n",
              "      border-right-color: var(--fill-color);\n",
              "    }\n",
              "    40% {\n",
              "      border-color: transparent;\n",
              "      border-right-color: var(--fill-color);\n",
              "      border-top-color: var(--fill-color);\n",
              "    }\n",
              "    60% {\n",
              "      border-color: transparent;\n",
              "      border-right-color: var(--fill-color);\n",
              "    }\n",
              "    80% {\n",
              "      border-color: transparent;\n",
              "      border-right-color: var(--fill-color);\n",
              "      border-bottom-color: var(--fill-color);\n",
              "    }\n",
              "    90% {\n",
              "      border-color: transparent;\n",
              "      border-bottom-color: var(--fill-color);\n",
              "    }\n",
              "  }\n",
              "</style>\n",
              "\n",
              "  <script>\n",
              "    async function quickchart(key) {\n",
              "      const quickchartButtonEl =\n",
              "        document.querySelector('#' + key + ' button');\n",
              "      quickchartButtonEl.disabled = true;  // To prevent multiple clicks.\n",
              "      quickchartButtonEl.classList.add('colab-df-spinner');\n",
              "      try {\n",
              "        const charts = await google.colab.kernel.invokeFunction(\n",
              "            'suggestCharts', [key], {});\n",
              "      } catch (error) {\n",
              "        console.error('Error during call to suggestCharts:', error);\n",
              "      }\n",
              "      quickchartButtonEl.classList.remove('colab-df-spinner');\n",
              "      quickchartButtonEl.classList.add('colab-df-quickchart-complete');\n",
              "    }\n",
              "    (() => {\n",
              "      let quickchartButtonEl =\n",
              "        document.querySelector('#df-0eb28500-bb3b-4fb3-8cd4-47c7bfe2423b button');\n",
              "      quickchartButtonEl.style.display =\n",
              "        google.colab.kernel.accessAllowed ? 'block' : 'none';\n",
              "    })();\n",
              "  </script>\n",
              "</div>\n",
              "\n",
              "    </div>\n",
              "  </div>\n"
            ],
            "application/vnd.google.colaboratory.intrinsic+json": {
              "type": "dataframe",
              "summary": "{\n  \"name\": \"df\",\n  \"rows\": 10,\n  \"fields\": [\n    {\n      \"column\": \"count\",\n      \"properties\": {\n        \"dtype\": \"number\",\n        \"std\": 0.0,\n        \"min\": 768.0,\n        \"max\": 768.0,\n        \"num_unique_values\": 1,\n        \"samples\": [\n          768.0\n        ],\n        \"semantic_type\": \"\",\n        \"description\": \"\"\n      }\n    },\n    {\n      \"column\": \"mean\",\n      \"properties\": {\n        \"dtype\": \"number\",\n        \"std\": 219.74744427828327,\n        \"min\": 0.234375,\n        \"max\": 671.7083333333334,\n        \"num_unique_values\": 10,\n        \"samples\": [\n          22.307200520833334\n        ],\n        \"semantic_type\": \"\",\n        \"description\": \"\"\n      }\n    },\n    {\n      \"column\": \"std\",\n      \"properties\": {\n        \"dtype\": \"number\",\n        \"std\": 29.544049158963308,\n        \"min\": 0.10577747587475206,\n        \"max\": 88.08611605586826,\n        \"num_unique_values\": 10,\n        \"samples\": [\n          10.090195732006162\n        ],\n        \"semantic_type\": \"\",\n        \"description\": \"\"\n      }\n    },\n    {\n      \"column\": \"min\",\n      \"properties\": {\n        \"dtype\": \"number\",\n        \"std\": 169.1009771178813,\n        \"min\": 0.0,\n        \"max\": 514.5,\n        \"num_unique_values\": 9,\n        \"samples\": [\n          6.01\n        ],\n        \"semantic_type\": \"\",\n        \"description\": \"\"\n      }\n    },\n    {\n      \"column\": \"25%\",\n      \"properties\": {\n        \"dtype\": \"number\",\n        \"std\": 199.46067362598907,\n        \"min\": 0.1,\n        \"max\": 606.375,\n        \"num_unique_values\": 10,\n        \"samples\": [\n          12.9925\n        ],\n        \"semantic_type\": \"\",\n        \"description\": \"\"\n      }\n    },\n    {\n      \"column\": \"50%\",\n      \"properties\": {\n        \"dtype\": \"number\",\n        \"std\": 220.80800019725532,\n        \"min\": 0.25,\n        \"max\": 673.75,\n        \"num_unique_values\": 10,\n        \"samples\": [\n          18.95\n        ],\n        \"semantic_type\": \"\",\n        \"description\": \"\"\n      }\n    },\n    {\n      \"column\": \"75%\",\n      \"properties\": {\n        \"dtype\": \"number\",\n        \"std\": 241.67166735860636,\n        \"min\": 0.4,\n        \"max\": 741.125,\n        \"num_unique_values\": 10,\n        \"samples\": [\n          31.6675\n        ],\n        \"semantic_type\": \"\",\n        \"description\": \"\"\n      }\n    },\n    {\n      \"column\": \"max\",\n      \"properties\": {\n        \"dtype\": \"number\",\n        \"std\": 266.29635773576274,\n        \"min\": 0.4,\n        \"max\": 808.5,\n        \"num_unique_values\": 9,\n        \"samples\": [\n          43.1\n        ],\n        \"semantic_type\": \"\",\n        \"description\": \"\"\n      }\n    }\n  ]\n}"
            }
          },
          "metadata": {},
          "execution_count": 5
        }
      ]
    },
    {
      "cell_type": "markdown",
      "source": [
        "Let's describe the dataset.It is commonly used to get an overview of the data, helping identify key characteristics like central tendency, spread, and the distribution of values."
      ],
      "metadata": {
        "id": "N8vP_eB9bg0O"
      }
    },
    {
      "cell_type": "markdown",
      "source": [
        "# 3.Data Preprocessing"
      ],
      "metadata": {
        "id": "TZS6zkWIJOD8"
      }
    },
    {
      "cell_type": "markdown",
      "source": [
        "# Finding Missing values"
      ],
      "metadata": {
        "id": "lUxhziD7Jh32"
      }
    },
    {
      "cell_type": "code",
      "source": [
        "df.isnull().sum()"
      ],
      "metadata": {
        "colab": {
          "base_uri": "https://localhost:8080/",
          "height": 397
        },
        "id": "4m7yfbOBm_-0",
        "outputId": "23f3ded0-0658-41da-a9aa-9c550ef7f3fa"
      },
      "execution_count": null,
      "outputs": [
        {
          "output_type": "execute_result",
          "data": {
            "text/plain": [
              "X1    0\n",
              "X2    0\n",
              "X3    0\n",
              "X4    0\n",
              "X5    0\n",
              "X6    0\n",
              "X7    0\n",
              "X8    0\n",
              "Y1    0\n",
              "Y2    0\n",
              "dtype: int64"
            ],
            "text/html": [
              "<div>\n",
              "<style scoped>\n",
              "    .dataframe tbody tr th:only-of-type {\n",
              "        vertical-align: middle;\n",
              "    }\n",
              "\n",
              "    .dataframe tbody tr th {\n",
              "        vertical-align: top;\n",
              "    }\n",
              "\n",
              "    .dataframe thead th {\n",
              "        text-align: right;\n",
              "    }\n",
              "</style>\n",
              "<table border=\"1\" class=\"dataframe\">\n",
              "  <thead>\n",
              "    <tr style=\"text-align: right;\">\n",
              "      <th></th>\n",
              "      <th>0</th>\n",
              "    </tr>\n",
              "  </thead>\n",
              "  <tbody>\n",
              "    <tr>\n",
              "      <th>X1</th>\n",
              "      <td>0</td>\n",
              "    </tr>\n",
              "    <tr>\n",
              "      <th>X2</th>\n",
              "      <td>0</td>\n",
              "    </tr>\n",
              "    <tr>\n",
              "      <th>X3</th>\n",
              "      <td>0</td>\n",
              "    </tr>\n",
              "    <tr>\n",
              "      <th>X4</th>\n",
              "      <td>0</td>\n",
              "    </tr>\n",
              "    <tr>\n",
              "      <th>X5</th>\n",
              "      <td>0</td>\n",
              "    </tr>\n",
              "    <tr>\n",
              "      <th>X6</th>\n",
              "      <td>0</td>\n",
              "    </tr>\n",
              "    <tr>\n",
              "      <th>X7</th>\n",
              "      <td>0</td>\n",
              "    </tr>\n",
              "    <tr>\n",
              "      <th>X8</th>\n",
              "      <td>0</td>\n",
              "    </tr>\n",
              "    <tr>\n",
              "      <th>Y1</th>\n",
              "      <td>0</td>\n",
              "    </tr>\n",
              "    <tr>\n",
              "      <th>Y2</th>\n",
              "      <td>0</td>\n",
              "    </tr>\n",
              "  </tbody>\n",
              "</table>\n",
              "</div><br><label><b>dtype:</b> int64</label>"
            ]
          },
          "metadata": {},
          "execution_count": 6
        }
      ]
    },
    {
      "cell_type": "markdown",
      "source": [
        "Here there are no missing values. so we need not to do filling  of missing values."
      ],
      "metadata": {
        "id": "wiX2J0havR6r"
      }
    },
    {
      "cell_type": "code",
      "source": [
        "df.duplicated().sum()"
      ],
      "metadata": {
        "colab": {
          "base_uri": "https://localhost:8080/"
        },
        "id": "o1qqDEKxnF_4",
        "outputId": "477f6703-af36-45f9-a471-acbfd9e15a26"
      },
      "execution_count": null,
      "outputs": [
        {
          "output_type": "execute_result",
          "data": {
            "text/plain": [
              "0"
            ]
          },
          "metadata": {},
          "execution_count": 7
        }
      ]
    },
    {
      "cell_type": "markdown",
      "source": [
        "df.duplicated().sum() is commonly used to check for duplicate entries in the dataset, which can affect data analysis and model performance.\n"
      ],
      "metadata": {
        "id": "WVU8q4Vucfwe"
      }
    },
    {
      "cell_type": "markdown",
      "source": [
        "# Feature and Target Variable Separation\n"
      ],
      "metadata": {
        "id": "_UA7t-6LwAaR"
      }
    },
    {
      "cell_type": "code",
      "source": [
        "x=df.drop(['Y1','Y2'],axis=1)\n",
        "y1=df['Y1']\n",
        "y2=df['Y2']\n",
        "print(x)\n",
        "print(y1)\n",
        "print(y2)"
      ],
      "metadata": {
        "colab": {
          "base_uri": "https://localhost:8080/"
        },
        "id": "RGkUC2onnE5Y",
        "outputId": "070a4bfe-9562-4ea1-bed3-8a72ee901013"
      },
      "execution_count": null,
      "outputs": [
        {
          "output_type": "stream",
          "name": "stdout",
          "text": [
            "       X1     X2     X3      X4   X5  X6   X7  X8\n",
            "0    0.98  514.5  294.0  110.25  7.0   2  0.0   0\n",
            "1    0.98  514.5  294.0  110.25  7.0   3  0.0   0\n",
            "2    0.98  514.5  294.0  110.25  7.0   4  0.0   0\n",
            "3    0.98  514.5  294.0  110.25  7.0   5  0.0   0\n",
            "4    0.90  563.5  318.5  122.50  7.0   2  0.0   0\n",
            "..    ...    ...    ...     ...  ...  ..  ...  ..\n",
            "763  0.64  784.0  343.0  220.50  3.5   5  0.4   5\n",
            "764  0.62  808.5  367.5  220.50  3.5   2  0.4   5\n",
            "765  0.62  808.5  367.5  220.50  3.5   3  0.4   5\n",
            "766  0.62  808.5  367.5  220.50  3.5   4  0.4   5\n",
            "767  0.62  808.5  367.5  220.50  3.5   5  0.4   5\n",
            "\n",
            "[768 rows x 8 columns]\n",
            "0      15.55\n",
            "1      15.55\n",
            "2      15.55\n",
            "3      15.55\n",
            "4      20.84\n",
            "       ...  \n",
            "763    17.88\n",
            "764    16.54\n",
            "765    16.44\n",
            "766    16.48\n",
            "767    16.64\n",
            "Name: Y1, Length: 768, dtype: float64\n",
            "0      21.33\n",
            "1      21.33\n",
            "2      21.33\n",
            "3      21.33\n",
            "4      28.28\n",
            "       ...  \n",
            "763    21.40\n",
            "764    16.88\n",
            "765    17.11\n",
            "766    16.61\n",
            "767    16.03\n",
            "Name: Y2, Length: 768, dtype: float64\n"
          ]
        }
      ]
    },
    {
      "cell_type": "markdown",
      "source": [
        "lets divide the feature variables and target variables.Consider input variables as x. Here we need to find two targets seperatily by dividing them into y1 and y2."
      ],
      "metadata": {
        "id": "KMZ_d6wNwHqJ"
      }
    },
    {
      "cell_type": "markdown",
      "source": [
        "# Normalization"
      ],
      "metadata": {
        "id": "jsTJ_xWKxMoN"
      }
    },
    {
      "cell_type": "code",
      "source": [
        "from sklearn.preprocessing import  MinMaxScaler\n",
        "m_x = MinMaxScaler()\n",
        "m_y1 = MinMaxScaler()\n",
        "m_y2 = MinMaxScaler()\n",
        "x_scaled = m_x.fit_transform(x)\n",
        "y1_scaled = m_y1.fit_transform(y1.values.reshape(-1, 1))\n",
        "y2_scaled = m_y2.fit_transform(y2.values.reshape(-1, 1))\n",
        "\n"
      ],
      "metadata": {
        "id": "EhNy9RMZffUP"
      },
      "execution_count": null,
      "outputs": []
    },
    {
      "cell_type": "markdown",
      "source": [
        "Normalization is a technique used in data preprocessing to scale the features (or variables) of a dataset to a similar range, usually between 0 and 1.This helps to increase model performance."
      ],
      "metadata": {
        "id": "VvTMJJgWxdQP"
      }
    },
    {
      "cell_type": "markdown",
      "source": [
        "# Splitting into train and test data"
      ],
      "metadata": {
        "id": "qaRS29Bixr2E"
      }
    },
    {
      "cell_type": "markdown",
      "source": [
        "Now we have to split the dataset into train and test data.The size of test data is 20% of dataset.Remaining data is training data.\n",
        "we have to split this because, we train the training data and evaluate the model performance on test data.This ensures that the model's performance can be evaluated on unseen data, helping to prevent overfitting."
      ],
      "metadata": {
        "id": "m-SaAZjwIRZG"
      }
    },
    {
      "cell_type": "code",
      "source": [
        "from sklearn.model_selection import train_test_split\n",
        "x_train,x_test,y_train_1,y_test_1=train_test_split(x_scaled,y1_scaled,test_size=0.2,random_state=42)\n",
        "x_train,x_test,y_train_2,y_test_2=train_test_split(x_scaled,y2_scaled,test_size=0.2,random_state=42)"
      ],
      "metadata": {
        "id": "3S3t6PcHoOOt"
      },
      "execution_count": null,
      "outputs": []
    },
    {
      "cell_type": "markdown",
      "source": [
        "let's find the shape"
      ],
      "metadata": {
        "id": "Z11SQFdox0Pl"
      }
    },
    {
      "cell_type": "code",
      "source": [
        "print(x_train.shape)\n",
        "print(x_test.shape)\n",
        "print(y_train_1.shape)\n",
        "print(y_test_1.shape)\n",
        "print(x_train.shape)\n",
        "print(x_test.shape)\n",
        "print(y_train_2.shape)\n",
        "print(y_test_2.shape)\n"
      ],
      "metadata": {
        "colab": {
          "base_uri": "https://localhost:8080/"
        },
        "id": "hG2UogXzoOLd",
        "outputId": "1f05313d-a5b4-49e6-de74-1d87a0e32b24"
      },
      "execution_count": null,
      "outputs": [
        {
          "output_type": "stream",
          "name": "stdout",
          "text": [
            "(614, 8)\n",
            "(154, 8)\n",
            "(614, 1)\n",
            "(154, 1)\n",
            "(614, 8)\n",
            "(154, 8)\n",
            "(614, 1)\n",
            "(154, 1)\n"
          ]
        }
      ]
    },
    {
      "cell_type": "markdown",
      "source": [
        "# 5.Algorithm Evaluation and Comparison"
      ],
      "metadata": {
        "id": "po4VR1M_x9H7"
      }
    },
    {
      "cell_type": "markdown",
      "source": [
        "Evaluating Model Performance Using Regression Metrics"
      ],
      "metadata": {
        "id": "JCxvI9NtOOH1"
      }
    },
    {
      "cell_type": "code",
      "source": [
        "from sklearn.metrics import mean_absolute_error, mean_squared_error, r2_score\n",
        "def evaluate_regression(y_test_1, y_pred_1,y_test_2,y_pred_2, model_name=\"Model\"):\n",
        "    mae_1 = mean_absolute_error(y_test_1, y_pred_1)\n",
        "    mse_1 = mean_squared_error(y_test_1, y_pred_1)\n",
        "    rmse_1 = np.sqrt(mse_1)\n",
        "    r2_1 = r2_score(y_test_1, y_pred_1)\n",
        "    mae_2 = mean_absolute_error(y_test_2, y_pred_2)\n",
        "    mse_2 = mean_squared_error(y_test_2, y_pred_2)\n",
        "    rmse_2 = np.sqrt(mse_2)\n",
        "    r2_2 = r2_score(y_test_2, y_pred_2)\n",
        "    print(f\"\\n{model_name} Performance Metrics:\")\n",
        "    print(f\"Mean Absolute Error (MAE): {mae_1}\")\n",
        "    print(f\"Mean Squared Error (MSE): {mse_1}\")\n",
        "    print(f\"Root Mean Squared Error (RMSE): {rmse_1}\")\n",
        "    print(f\"R-squared (R2): {r2_1}\")\n",
        "    print(f\"\\n{model_name} Performance Metrics:\")\n",
        "    print(f\"Mean Absolute Error (MAE): {mae_2}\")\n",
        "    print(f\"Mean Squared Error (MSE): {mse_2}\")\n",
        "    print(f\"Root Mean Squared Error (RMSE): {rmse_2}\")\n",
        "    print(f\"R-squared (R2): {r2_2}\")"
      ],
      "metadata": {
        "id": "eDo_Irj0K1ob"
      },
      "execution_count": null,
      "outputs": []
    },
    {
      "cell_type": "markdown",
      "source": [
        "# **a**.***Support*** ***Vector*** ***Regressor***"
      ],
      "metadata": {
        "id": "q3K4P0tyyFt8"
      }
    },
    {
      "cell_type": "code",
      "source": [
        "from sklearn.svm import SVR\n",
        "svr_1=SVR()\n",
        "svr_1.fit(x_train,y_train_1)\n",
        "y_pred_1=svr_1.predict(x_test)\n",
        "\n",
        "svr_2=SVR()\n",
        "svr_2.fit(x_train,y_train_2)\n",
        "y_pred_2=svr_2.predict(x_test)\n",
        "evaluate_regression(y_test_1, y_pred_1,y_test_2,y_pred_2,\"SVR\")"
      ],
      "metadata": {
        "colab": {
          "base_uri": "https://localhost:8080/"
        },
        "id": "1XnkFuC8oclq",
        "outputId": "348c7256-7c46-4a4b-f350-cde80cc26061"
      },
      "execution_count": null,
      "outputs": [
        {
          "output_type": "stream",
          "name": "stdout",
          "text": [
            "\n",
            "SVR Performance Metrics:\n",
            "Mean Absolute Error (MAE): 0.0623122925390864\n",
            "Mean Squared Error (MSE): 0.005126974858004193\n",
            "Root Mean Squared Error (RMSE): 0.07160289699449453\n",
            "R-squared (R2): 0.9323331968275725\n",
            "\n",
            "SVR Performance Metrics:\n",
            "Mean Absolute Error (MAE): 0.06454294564909405\n",
            "Mean Squared Error (MSE): 0.006272713513616545\n",
            "Root Mean Squared Error (RMSE): 0.07920046409975477\n",
            "R-squared (R2): 0.9066689812221665\n"
          ]
        }
      ]
    },
    {
      "cell_type": "markdown",
      "source": [
        "# ***b.Linear Regression***"
      ],
      "metadata": {
        "id": "D5vh1WL8OhjP"
      }
    },
    {
      "cell_type": "code",
      "source": [
        "from sklearn.linear_model import LinearRegression\n",
        "model = LinearRegression()\n",
        "model.fit(x_train, y_train_1)\n",
        "y_pred_1 = model.predict(x_test)\n",
        "model = LinearRegression()\n",
        "model.fit(x_train, y_train_2)\n",
        "y_pred_2 = model.predict(x_test)\n",
        "evaluate_regression(y_test_1, y_pred_1,y_test_2,y_pred_2,\"Linear Regression\")\n"
      ],
      "metadata": {
        "id": "ZmFxwT-jmofL",
        "colab": {
          "base_uri": "https://localhost:8080/"
        },
        "outputId": "172de926-c5e6-4b39-af01-92c737a971bb"
      },
      "execution_count": null,
      "outputs": [
        {
          "output_type": "stream",
          "name": "stdout",
          "text": [
            "\n",
            "Linear Regression Performance Metrics:\n",
            "Mean Absolute Error (MAE): 0.05883114106572995\n",
            "Mean Squared Error (MSE): 0.006653630955899004\n",
            "Root Mean Squared Error (RMSE): 0.08156979193242438\n",
            "R-squared (R2): 0.9121840951546909\n",
            "\n",
            "Linear Regression Performance Metrics:\n",
            "Mean Absolute Error (MAE): 0.05912456801820292\n",
            "Mean Squared Error (MSE): 0.007176238825425381\n",
            "Root Mean Squared Error (RMSE): 0.08471268397014335\n",
            "R-squared (R2): 0.8932255268607286\n"
          ]
        }
      ]
    },
    {
      "cell_type": "markdown",
      "source": [
        "# ***c.Decision Tree Regressor***"
      ],
      "metadata": {
        "id": "9x_yhi28OtPj"
      }
    },
    {
      "cell_type": "code",
      "source": [
        "from sklearn.tree import DecisionTreeRegressor\n",
        "decision_tree_model = DecisionTreeRegressor(random_state=42)\n",
        "decision_tree_model.fit(x_train, y_train_1)\n",
        "y_pred_1= decision_tree_model.predict(x_test)\n",
        "decision_tree_model = DecisionTreeRegressor(random_state=42)\n",
        "decision_tree_model.fit(x_train, y_train_2)\n",
        "y_pred_2 = decision_tree_model.predict(x_test)\n",
        "evaluate_regression(y_test_1, y_pred_1,y_test_2,y_pred_2,\"Decision Tree Regressor\")\n"
      ],
      "metadata": {
        "id": "0I8Bv9ehnzm-",
        "colab": {
          "base_uri": "https://localhost:8080/"
        },
        "outputId": "d000e62f-5f5c-42fe-99d0-3e4193f94287"
      },
      "execution_count": null,
      "outputs": [
        {
          "output_type": "stream",
          "name": "stdout",
          "text": [
            "\n",
            "Decision Tree Regressor Performance Metrics:\n",
            "Mean Absolute Error (MAE): 0.011609178096101796\n",
            "Mean Squared Error (MSE): 0.00028611316439390675\n",
            "Root Mean Squared Error (RMSE): 0.016914879969834453\n",
            "R-squared (R2): 0.9962238232649303\n",
            "\n",
            "Decision Tree Regressor Performance Metrics:\n",
            "Mean Absolute Error (MAE): 0.029954424783404054\n",
            "Mean Squared Error (MSE): 0.00286291914428373\n",
            "Root Mean Squared Error (RMSE): 0.053506253319436696\n",
            "R-squared (R2): 0.9574029389618163\n"
          ]
        }
      ]
    },
    {
      "cell_type": "markdown",
      "source": [
        "# ***d.Random Forest Regression***"
      ],
      "metadata": {
        "id": "nIjSWZdzzz5Q"
      }
    },
    {
      "cell_type": "code",
      "source": [
        "from sklearn.ensemble import RandomForestRegressor\n",
        "random_forest_model = RandomForestRegressor(n_estimators=100, random_state=42)\n",
        "random_forest_model.fit(x_train, y_train_1)\n",
        "y_pred_1 = random_forest_model.predict(x_test)\n",
        "random_forest_model = RandomForestRegressor(n_estimators=100, random_state=42)\n",
        "random_forest_model.fit(x_train, y_train_2)\n",
        "y_pred_2 = random_forest_model.predict(x_test)\n",
        "evaluate_regression(y_test_1, y_pred_1,y_test_2,y_pred_2,\"Random Forest Regressor\")\n"
      ],
      "metadata": {
        "id": "IhJTRHgkn6VE",
        "colab": {
          "base_uri": "https://localhost:8080/"
        },
        "outputId": "431ddc2b-3687-40ab-9fb6-57402510b0e8"
      },
      "execution_count": null,
      "outputs": [
        {
          "output_type": "stream",
          "name": "stdout",
          "text": [
            "\n",
            "Random Forest Regressor Performance Metrics:\n",
            "Mean Absolute Error (MAE): 0.009656206559684563\n",
            "Mean Squared Error (MSE): 0.00017862449133652984\n",
            "Root Mean Squared Error (RMSE): 0.013365047375020032\n",
            "R-squared (R2): 0.9976424795065703\n",
            "\n",
            "Random Forest Regressor Performance Metrics:\n",
            "Mean Absolute Error (MAE): 0.02880325707150378\n",
            "Mean Squared Error (MSE): 0.002179824306375173\n",
            "Root Mean Squared Error (RMSE): 0.04668858860980028\n",
            "R-squared (R2): 0.9675666323945692\n"
          ]
        }
      ]
    },
    {
      "cell_type": "markdown",
      "source": [
        "# ***e.Gradient Boosting Regression***"
      ],
      "metadata": {
        "id": "kTEiEjRMz7d-"
      }
    },
    {
      "cell_type": "code",
      "source": [
        "from sklearn.ensemble import GradientBoostingRegressor\n",
        "gradient_boosting_model = GradientBoostingRegressor(n_estimators=100, random_state=42)\n",
        "gradient_boosting_model.fit(x_train, y_train_1)\n",
        "y_pred_1 = gradient_boosting_model.predict(x_test)\n",
        "gradient_boosting_model = GradientBoostingRegressor(n_estimators=100, random_state=42)\n",
        "gradient_boosting_model.fit(x_train, y_train_2)\n",
        "y_pred_2 = gradient_boosting_model.predict(x_test)\n",
        "evaluate_regression(y_test_1, y_pred_1,y_test_2,y_pred_2,\"Gradient Boosting Regressor\")"
      ],
      "metadata": {
        "id": "W9t4Oc8KoBa9",
        "colab": {
          "base_uri": "https://localhost:8080/"
        },
        "outputId": "a3abfd42-4974-4e35-9289-50aef9215be4"
      },
      "execution_count": null,
      "outputs": [
        {
          "output_type": "stream",
          "name": "stdout",
          "text": [
            "\n",
            "Gradient Boosting Regressor Performance Metrics:\n",
            "Mean Absolute Error (MAE): 0.010411413117876495\n",
            "Mean Squared Error (MSE): 0.00019286047533180969\n",
            "Root Mean Squared Error (RMSE): 0.013887421478871075\n",
            "R-squared (R2): 0.9974545902436708\n",
            "\n",
            "Gradient Boosting Regressor Performance Metrics:\n",
            "Mean Absolute Error (MAE): 0.028475210883911525\n",
            "Mean Squared Error (MSE): 0.0016635887803879968\n",
            "Root Mean Squared Error (RMSE): 0.04078711537223485\n",
            "R-squared (R2): 0.9752476443625325\n"
          ]
        }
      ]
    },
    {
      "cell_type": "markdown",
      "source": [
        "# ***f.Polynomial Regression***"
      ],
      "metadata": {
        "id": "yX8aSnoZ0H_W"
      }
    },
    {
      "cell_type": "markdown",
      "source": [
        "In this we considered **degree=2**"
      ],
      "metadata": {
        "id": "9eYV71vv0VTt"
      }
    },
    {
      "cell_type": "code",
      "source": [
        "from sklearn.preprocessing import PolynomialFeatures\n",
        "degree=2\n",
        "poly_features = PolynomialFeatures(degree=degree)\n",
        "x_train_poly = poly_features.fit_transform(x_train)\n",
        "x_test_poly = poly_features.transform(x_test)\n",
        "linear_model = LinearRegression()\n",
        "linear_model.fit(x_train_poly, y_train_1)\n",
        "y_pred_1 = linear_model.predict(x_test_poly)\n",
        "linear_model = LinearRegression()\n",
        "linear_model.fit(x_train_poly, y_train_2)\n",
        "y_pred_2 = linear_model.predict(x_test_poly)"
      ],
      "metadata": {
        "id": "YaxBv6fQoOi_"
      },
      "execution_count": null,
      "outputs": []
    },
    {
      "cell_type": "code",
      "source": [
        "evaluate_regression(y_test_1, y_pred_1,y_test_2,y_pred_2,\"Polynomial Regression_deg=2\")"
      ],
      "metadata": {
        "colab": {
          "base_uri": "https://localhost:8080/"
        },
        "id": "Sku2rWRXN2Bb",
        "outputId": "2f92893b-d63e-4f28-fdc9-d59213a2b654"
      },
      "execution_count": null,
      "outputs": [
        {
          "output_type": "stream",
          "name": "stdout",
          "text": [
            "\n",
            "Polynomial Regression_deg=2 Performance Metrics:\n",
            "Mean Absolute Error (MAE): 0.01629010910129377\n",
            "Mean Squared Error (MSE): 0.000468673337440852\n",
            "Root Mean Squared Error (RMSE): 0.021648864576250922\n",
            "R-squared (R2): 0.9938143588850912\n",
            "\n",
            "Polynomial Regression_deg=2 Performance Metrics:\n",
            "Mean Absolute Error (MAE): 0.03207287971579901\n",
            "Mean Squared Error (MSE): 0.002160853221150482\n",
            "Root Mean Squared Error (RMSE): 0.04648497844627318\n",
            "R-squared (R2): 0.967848901098137\n"
          ]
        }
      ]
    },
    {
      "cell_type": "markdown",
      "source": [
        "In this we considered **degree=3**"
      ],
      "metadata": {
        "id": "KJ6RsT2M0dCE"
      }
    },
    {
      "cell_type": "code",
      "source": [
        "from sklearn.preprocessing import PolynomialFeatures\n",
        "degree=3\n",
        "poly_features = PolynomialFeatures(degree=degree)\n",
        "x_train_poly = poly_features.fit_transform(x_train)\n",
        "x_test_poly = poly_features.transform(x_test)\n",
        "linear_model = LinearRegression()\n",
        "linear_model.fit(x_train_poly, y_train_1)\n",
        "y_pred_1 = linear_model.predict(x_test_poly)\n",
        "linear_model = LinearRegression()\n",
        "linear_model.fit(x_train_poly, y_train_2)\n",
        "y_pred_2 = linear_model.predict(x_test_poly)"
      ],
      "metadata": {
        "id": "GwHB4rLIPQYY"
      },
      "execution_count": null,
      "outputs": []
    },
    {
      "cell_type": "code",
      "source": [
        "evaluate_regression(y_test_1, y_pred_1,y_test_2,y_pred_2,\"Polynomial Regression_deg=3\")"
      ],
      "metadata": {
        "colab": {
          "base_uri": "https://localhost:8080/"
        },
        "id": "b4-buDDbtFy5",
        "outputId": "0b06ad82-e4b8-4eef-b8b7-87e32b489881"
      },
      "execution_count": null,
      "outputs": [
        {
          "output_type": "stream",
          "name": "stdout",
          "text": [
            "\n",
            "Polynomial Regression_deg=3 Performance Metrics:\n",
            "Mean Absolute Error (MAE): 0.011074886285206366\n",
            "Mean Squared Error (MSE): 0.00021333372444399837\n",
            "Root Mean Squared Error (RMSE): 0.014605948255556651\n",
            "R-squared (R2): 0.9971843803525863\n",
            "\n",
            "Polynomial Regression_deg=3 Performance Metrics:\n",
            "Mean Absolute Error (MAE): 0.03217514714919718\n",
            "Mean Squared Error (MSE): 0.0020143539396450007\n",
            "Root Mean Squared Error (RMSE): 0.044881554559139336\n",
            "R-squared (R2): 0.9700286478956668\n"
          ]
        }
      ]
    },
    {
      "cell_type": "markdown",
      "source": [
        "In this we considered **degree**=**4**"
      ],
      "metadata": {
        "id": "yUV8xkVC0fsx"
      }
    },
    {
      "cell_type": "code",
      "source": [
        "from sklearn.preprocessing import PolynomialFeatures\n",
        "degree=4\n",
        "poly_features = PolynomialFeatures(degree=degree)\n",
        "x_train_poly = poly_features.fit_transform(x_train)\n",
        "x_test_poly = poly_features.transform(x_test)\n",
        "linear_model = LinearRegression()\n",
        "linear_model.fit(x_train_poly, y_train_1)\n",
        "y_pred_1 = linear_model.predict(x_test_poly)\n",
        "linear_model = LinearRegression()\n",
        "linear_model.fit(x_train_poly, y_train_2)\n",
        "y_pred_2 = linear_model.predict(x_test_poly)"
      ],
      "metadata": {
        "id": "8i_w1jUhPTq3"
      },
      "execution_count": null,
      "outputs": []
    },
    {
      "cell_type": "code",
      "source": [
        "evaluate_regression(y_test_1, y_pred_1,y_test_2,y_pred_2,\"Polynomial Regression_deg=4\")"
      ],
      "metadata": {
        "colab": {
          "base_uri": "https://localhost:8080/"
        },
        "id": "NxOMFMx6tKzm",
        "outputId": "045faf76-72b1-4628-c01e-ffb5ff3af7b1"
      },
      "execution_count": null,
      "outputs": [
        {
          "output_type": "stream",
          "name": "stdout",
          "text": [
            "\n",
            "Polynomial Regression_deg=4 Performance Metrics:\n",
            "Mean Absolute Error (MAE): 0.0091752666492968\n",
            "Mean Squared Error (MSE): 0.00014934332155129936\n",
            "Root Mean Squared Error (RMSE): 0.012220610522854386\n",
            "R-squared (R2): 0.9980289380337507\n",
            "\n",
            "Polynomial Regression_deg=4 Performance Metrics:\n",
            "Mean Absolute Error (MAE): 0.025553081726663648\n",
            "Mean Squared Error (MSE): 0.0015554118319813202\n",
            "Root Mean Squared Error (RMSE): 0.03943870981638877\n",
            "R-squared (R2): 0.9768571973544165\n"
          ]
        }
      ]
    },
    {
      "cell_type": "markdown",
      "source": [
        "In this we considered **degree = 5**"
      ],
      "metadata": {
        "id": "Js4dYHk90iGS"
      }
    },
    {
      "cell_type": "code",
      "source": [
        "from sklearn.preprocessing import PolynomialFeatures\n",
        "degree=5\n",
        "poly_features = PolynomialFeatures(degree=degree)\n",
        "x_train_poly = poly_features.fit_transform(x_train)\n",
        "x_test_poly = poly_features.transform(x_test)\n",
        "linear_model = LinearRegression()\n",
        "linear_model.fit(x_train_poly, y_train_1)\n",
        "y_pred_1 = linear_model.predict(x_test_poly)\n",
        "linear_model = LinearRegression()\n",
        "linear_model.fit(x_train_poly, y_train_2)\n",
        "y_pred_2 = linear_model.predict(x_test_poly)"
      ],
      "metadata": {
        "id": "-FgXqNtaPV_t"
      },
      "execution_count": null,
      "outputs": []
    },
    {
      "cell_type": "code",
      "source": [
        "evaluate_regression(y_test_1, y_pred_1,y_test_2,y_pred_2,\"Polynomial Regression_deg=5\")\n"
      ],
      "metadata": {
        "colab": {
          "base_uri": "https://localhost:8080/"
        },
        "id": "ASTnHMkltcbL",
        "outputId": "b60a46dd-3403-4e34-9a12-173aec8db509"
      },
      "execution_count": null,
      "outputs": [
        {
          "output_type": "stream",
          "name": "stdout",
          "text": [
            "\n",
            "Polynomial Regression_deg=5 Performance Metrics:\n",
            "Mean Absolute Error (MAE): 0.00949921557934359\n",
            "Mean Squared Error (MSE): 0.00017381726839564075\n",
            "Root Mean Squared Error (RMSE): 0.013183977715228464\n",
            "R-squared (R2): 0.9977059261622603\n",
            "\n",
            "Polynomial Regression_deg=5 Performance Metrics:\n",
            "Mean Absolute Error (MAE): 0.030493040475114298\n",
            "Mean Squared Error (MSE): 0.0019307801193079227\n",
            "Root Mean Squared Error (RMSE): 0.043940643137167695\n",
            "R-squared (R2): 0.9712721336340611\n"
          ]
        }
      ]
    },
    {
      "cell_type": "markdown",
      "source": [
        "# 6.Model Performance Metrics Overview"
      ],
      "metadata": {
        "id": "COaf0yLCR9kt"
      }
    },
    {
      "cell_type": "markdown",
      "source": [
        "let's create a table that contains all metrics values. This will be easy to find the best model."
      ],
      "metadata": {
        "id": "MAripvy73QB9"
      }
    },
    {
      "cell_type": "code",
      "source": [
        "from tabulate import tabulate\n",
        "#  the models and their corresponding metrics\n",
        "data = {\n",
        "    \"Model\": [\n",
        "        \"SVR_1\", \"SVR_2\", \"Linear Regression_1\", \"Linear Regression_2\",\n",
        "        \"Decision Tree Regressor_1\", \"Decision Tree Regressor_2\",\n",
        "        \"Random Forest Regressor_1\", \"Random Forest Regressor_2\",\n",
        "        \"Gradient Boosting Regressor_1\", \"Gradient Boosting Regressor_2\",\n",
        "        \"Polynomial Regression_deg=2_1\", \"Polynomial Regression_deg=2_2\",\n",
        "        \"Polynomial Regression_deg=3_1\", \"Polynomial Regression_deg=3_2\",\n",
        "        \"Polynomial Regression_deg=4_1\", \"Polynomial Regression_deg=4_2\",\n",
        "        \"Polynomial Regression_deg=5_1\", \"Polynomial Regression_deg=5_2\"\n",
        "    ],\n",
        "    \"MAE\": [\n",
        "        0.0623122925390864, 0.06454294564909405, 0.05883114106572995, 0.05912456801820292,\n",
        "        0.011609178096101796, 0.029954424783404054, 0.009656206559684563, 0.02880325707150378,\n",
        "        0.010411413117876495, 0.028475210883911525, 0.01629010910129377, 0.03207287971579901,\n",
        "        0.011074886285206366, 0.03217514714919718, 0.0091752666492968, 0.025553081726663648,\n",
        "        0.00949921557934359, 0.030493040475114298\n",
        "    ],\n",
        "    \"MSE\": [\n",
        "        0.005126974858004193, 0.006272713513616545, 0.006653630955899004, 0.007176238825425381,\n",
        "        0.00028611316439390675, 0.00286291914428373, 0.00017862449133652984, 0.002179824306375173,\n",
        "        0.00019286047533180969, 0.0016635887803879968, 0.000468673337440852, 0.002160853221150482,\n",
        "        0.00021333372444399837, 0.0020143539396450007, 0.00014934332155129936, 0.0015554118319813202,\n",
        "        0.00017381726839564075, 0.0019307801193079227\n",
        "    ],\n",
        "    \"RMSE\": [\n",
        "        0.07160289699449453, 0.07920046409975477, 0.08156979193242438, 0.08471268397014335,\n",
        "        0.016914879969834453, 0.053506253319436696, 0.013365047375020032, 0.04668858860980028,\n",
        "        0.013887421478871075, 0.04078711537223485, 0.021648864576250922, 0.04648497844627318,\n",
        "        0.014605948255556651, 0.044881554559139336, 0.012220610522854386, 0.03943870981638877,\n",
        "        0.013183977715228464, 0.043940643137167695\n",
        "    ],\n",
        "    \"R-squared (R2)\": [\n",
        "        0.9323331968275725, 0.9066689812221665, 0.9121840951546909, 0.8932255268607286,\n",
        "        0.9962238232649303, 0.9574029389618163, 0.9976424795065703, 0.9675666323945692,\n",
        "        0.9974545902436708, 0.9752476443625325, 0.9938143588850912, 0.967848901098137,\n",
        "        0.9971843803525863, 0.9700286478956668, 0.9980289380337507, 0.9768571973544165,\n",
        "        0.9977059261622603, 0.9712721336340611\n",
        "    ]\n",
        "}\n",
        "df = pd.DataFrame(data)\n",
        "print(tabulate(df, headers='keys', tablefmt='fancy_grid', showindex=False))\n"
      ],
      "metadata": {
        "colab": {
          "base_uri": "https://localhost:8080/"
        },
        "id": "pNtFON63STuq",
        "outputId": "25c4b1a2-6391-4c1d-ee41-dc71df414b7c"
      },
      "execution_count": null,
      "outputs": [
        {
          "output_type": "stream",
          "name": "stdout",
          "text": [
            "╒═══════════════════════════════╤════════════╤═════════════╤═══════════╤══════════════════╕\n",
            "│ Model                         │        MAE │         MSE │      RMSE │   R-squared (R2) │\n",
            "╞═══════════════════════════════╪════════════╪═════════════╪═══════════╪══════════════════╡\n",
            "│ SVR_1                         │ 0.0623123  │ 0.00512697  │ 0.0716029 │         0.932333 │\n",
            "├───────────────────────────────┼────────────┼─────────────┼───────────┼──────────────────┤\n",
            "│ SVR_2                         │ 0.0645429  │ 0.00627271  │ 0.0792005 │         0.906669 │\n",
            "├───────────────────────────────┼────────────┼─────────────┼───────────┼──────────────────┤\n",
            "│ Linear Regression_1           │ 0.0588311  │ 0.00665363  │ 0.0815698 │         0.912184 │\n",
            "├───────────────────────────────┼────────────┼─────────────┼───────────┼──────────────────┤\n",
            "│ Linear Regression_2           │ 0.0591246  │ 0.00717624  │ 0.0847127 │         0.893226 │\n",
            "├───────────────────────────────┼────────────┼─────────────┼───────────┼──────────────────┤\n",
            "│ Decision Tree Regressor_1     │ 0.0116092  │ 0.000286113 │ 0.0169149 │         0.996224 │\n",
            "├───────────────────────────────┼────────────┼─────────────┼───────────┼──────────────────┤\n",
            "│ Decision Tree Regressor_2     │ 0.0299544  │ 0.00286292  │ 0.0535063 │         0.957403 │\n",
            "├───────────────────────────────┼────────────┼─────────────┼───────────┼──────────────────┤\n",
            "│ Random Forest Regressor_1     │ 0.00965621 │ 0.000178624 │ 0.013365  │         0.997642 │\n",
            "├───────────────────────────────┼────────────┼─────────────┼───────────┼──────────────────┤\n",
            "│ Random Forest Regressor_2     │ 0.0288033  │ 0.00217982  │ 0.0466886 │         0.967567 │\n",
            "├───────────────────────────────┼────────────┼─────────────┼───────────┼──────────────────┤\n",
            "│ Gradient Boosting Regressor_1 │ 0.0104114  │ 0.00019286  │ 0.0138874 │         0.997455 │\n",
            "├───────────────────────────────┼────────────┼─────────────┼───────────┼──────────────────┤\n",
            "│ Gradient Boosting Regressor_2 │ 0.0284752  │ 0.00166359  │ 0.0407871 │         0.975248 │\n",
            "├───────────────────────────────┼────────────┼─────────────┼───────────┼──────────────────┤\n",
            "│ Polynomial Regression_deg=2_1 │ 0.0162901  │ 0.000468673 │ 0.0216489 │         0.993814 │\n",
            "├───────────────────────────────┼────────────┼─────────────┼───────────┼──────────────────┤\n",
            "│ Polynomial Regression_deg=2_2 │ 0.0320729  │ 0.00216085  │ 0.046485  │         0.967849 │\n",
            "├───────────────────────────────┼────────────┼─────────────┼───────────┼──────────────────┤\n",
            "│ Polynomial Regression_deg=3_1 │ 0.0110749  │ 0.000213334 │ 0.0146059 │         0.997184 │\n",
            "├───────────────────────────────┼────────────┼─────────────┼───────────┼──────────────────┤\n",
            "│ Polynomial Regression_deg=3_2 │ 0.0321751  │ 0.00201435  │ 0.0448816 │         0.970029 │\n",
            "├───────────────────────────────┼────────────┼─────────────┼───────────┼──────────────────┤\n",
            "│ Polynomial Regression_deg=4_1 │ 0.00917527 │ 0.000149343 │ 0.0122206 │         0.998029 │\n",
            "├───────────────────────────────┼────────────┼─────────────┼───────────┼──────────────────┤\n",
            "│ Polynomial Regression_deg=4_2 │ 0.0255531  │ 0.00155541  │ 0.0394387 │         0.976857 │\n",
            "├───────────────────────────────┼────────────┼─────────────┼───────────┼──────────────────┤\n",
            "│ Polynomial Regression_deg=5_1 │ 0.00949922 │ 0.000173817 │ 0.013184  │         0.997706 │\n",
            "├───────────────────────────────┼────────────┼─────────────┼───────────┼──────────────────┤\n",
            "│ Polynomial Regression_deg=5_2 │ 0.030493   │ 0.00193078  │ 0.0439406 │         0.971272 │\n",
            "╘═══════════════════════════════╧════════════╧═════════════╧═══════════╧══════════════════╛\n"
          ]
        }
      ]
    },
    {
      "cell_type": "markdown",
      "source": [
        "From this table we found that polynomial regression with degree 4 is the best model.And then Random Forest Regression is also have similar values.\n",
        "\n",
        "\n",
        "\n"
      ],
      "metadata": {
        "id": "Mcx4J9j_3mnl"
      }
    },
    {
      "cell_type": "markdown",
      "source": [
        "# 7.Best Algorithm Selection"
      ],
      "metadata": {
        "id": "h1cJPQqS2d0X"
      }
    },
    {
      "cell_type": "markdown",
      "source": [
        "The best model for Energy Efficency in Buildings Dataset is **Polynomial Regression of Degree 4**"
      ],
      "metadata": {
        "id": "PaelBASC5PZt"
      }
    },
    {
      "cell_type": "markdown",
      "source": [
        "The evaluation metrics of Polynomial Regression of Degree 4 is\n",
        "Polynomial Regression_deg=4 Performance Metrics:\n",
        "\n",
        "Mean Absolute Error (MAE): 0.0091752666492968\n",
        "\n",
        "Mean Squared Error (MSE): 0.00014934332155129936\n",
        "\n",
        "Root Mean Squared Error (RMSE): 0.012220610522854386\n",
        "\n",
        "R-squared (R2): 0.9980289380337507\n",
        "\n",
        "Polynomial Regression_deg=4 Performance Metrics:\n",
        "\n",
        "Mean Absolute Error (MAE): 0.025553081726663648\n",
        "\n",
        "Mean Squared Error (MSE): 0.0015554118319813202\n",
        "\n",
        "Root Mean Squared Error (RMSE): 0.03943870981638877\n",
        "\n",
        "R-squared (R2): 0.9768571973544165\n",
        "\n",
        "\n",
        "\n",
        "# Finally,we have build the best score. ⚡"
      ],
      "metadata": {
        "id": "iec1xSO_i712"
      }
    }
  ]
}