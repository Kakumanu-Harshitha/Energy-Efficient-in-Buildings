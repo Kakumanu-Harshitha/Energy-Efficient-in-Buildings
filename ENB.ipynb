{
  "nbformat": 4,
  "nbformat_minor": 0,
  "metadata": {
    "colab": {
      "provenance": [],
      "include_colab_link": true
    },
    "kernelspec": {
      "name": "python3",
      "display_name": "Python 3"
    },
    "language_info": {
      "name": "python"
    }
  },
  "cells": [
    {
      "cell_type": "markdown",
      "metadata": {
        "id": "view-in-github",
        "colab_type": "text"
      },
      "source": [
        "<a href=\"https://colab.research.google.com/github/Kakumanu-Harshitha/Energy-Efficient-in-Buildings/blob/main/ENB.ipynb\" target=\"_parent\"><img src=\"https://colab.research.google.com/assets/colab-badge.svg\" alt=\"Open In Colab\"/></a>"
      ]
    },
    {
      "cell_type": "markdown",
      "source": [
        "# **Energy Efficiency in Buildings**\n",
        "The ENB dataset focuses on predicting energy consumption in buildings, specifically in terms of heating load and cooling load. It is a valuable resource for studying building energy efficiency, as it includes various features like the building’s orientation, the size of windows and walls, and temperature factors.\n",
        "\n",
        "\n",
        "\n",
        "\n"
      ],
      "metadata": {
        "id": "-EyiAZ58TVhN"
      }
    },
    {
      "cell_type": "markdown",
      "source": [
        "# Steps to build the model"
      ],
      "metadata": {
        "id": "jxt1V5j0h5CZ"
      }
    },
    {
      "cell_type": "markdown",
      "source": [
        " 1.Import libraries\n",
        "\n",
        " 2.Import Dataset\n",
        "\n",
        " 
        "\n",
        " 3.Data preprocessing\n",
        "\n",
        "   \n",
        "\n",
        "   *   Finding and filling missing values\n",
        "   *Feature and Target Variable Separation\n",
        "\n",
        "   *   Normalization\n",
        "   *   splitting into train and test data\n",
        "\n",
        "\n",
        " 5.Algorithm Evaluation and Comparison\n",
        "\n",
        "      a.Support Vector Regression\n",
        "\n",
        "      b.Linear Regression\n",
        "\n",
        "      c.Desicion Tree Regression\n",
        "\n",
        "      d.Random Forest Regression\n",
        "\n",
        "      e.Gradient Boost Regression\n",
        "\n",
        "      f.Polynomial Regression **\n",
        "6.Model Performance Metrics Overview\n",
        "\n",
        "7.Best Algorithm Selection\n",
        "\n",
        "8.Visualize the actual and predicted values\n",
        "\n",
        "\n",
        "    \n",
        "\n"
      ],
      "metadata": {
        "id": "PscZx2q3eR35"
      }
    },
    {
      "cell_type": "markdown",
      "source": [
        "# 1.Import libraries"
      ],
      "metadata": {
        "id": "7a5RiUMUl4JA"
      }
    },
    {
      "cell_type": "code",
      "execution_count": 91,
      "metadata": {
        "id": "JevUAeJElJ6R"
      },
      "outputs": [],
      "source": [
        "import numpy as np\n",
        "import pandas as pd\n",
        "import matplotlib.pyplot as plt\n",
        "import warnings\n",
        "warnings.filterwarnings('ignore')"
      ]
    },
    {
      "cell_type": "markdown",
      "source": [
        "# 2.Import Dataset\n",
        "Reference from kaggle: https://www.kaggle.com/datasets/ahmettademir/enb2012\n",
        "\n"
      ],
      "metadata": {
        "id": "1B82atSwl0_c"
      }
    },
    {
      "cell_type": "code",
      "source": [
        "df = pd.read_csv(\"ENB2012_data.csv\")\n",
        "df.head()"
      ],
      "metadata": {
        "colab": {
          "base_uri": "https://localhost:8080/",
          "height": 206
        },
        "id": "IwcmAN2JmWFC",
        "outputId": "4cc5d1f5-5e7a-4bfd-e6b9-9353247a74ca"
      },
      "execution_count": 92,
      "outputs": [
        {
          "output_type": "execute_result",
          "data": {
            "text/plain": [
              "     X1     X2     X3      X4   X5  X6   X7  X8     Y1     Y2\n",
              "0  0.98  514.5  294.0  110.25  7.0   2  0.0   0  15.55  21.33\n",
              "1  0.98  514.5  294.0  110.25  7.0   3  0.0   0  15.55  21.33\n",
              "2  0.98  514.5  294.0  110.25  7.0   4  0.0   0  15.55  21.33\n",
              "3  0.98  514.5  294.0  110.25  7.0   5  0.0   0  15.55  21.33\n",
              "4  0.90  563.5  318.5  122.50  7.0   2  0.0   0  20.84  28.28"
            ],
            "text/html": [
              "\n",
              "  <div id=\"df-14d5041a-3f93-4ba3-b1e0-f7eeee40b728\" class=\"colab-df-container\">\n",
              "    <div>\n",
              "<style scoped>\n",
              "    .dataframe tbody tr th:only-of-type {\n",
              "        vertical-align: middle;\n",
              "    }\n",
              "\n",
              "    .dataframe tbody tr th {\n",
              "        vertical-align: top;\n",
              "    }\n",
              "\n",
              "    .dataframe thead th {\n",
              "        text-align: right;\n",
              "    }\n",
              "</style>\n",
              "<table border=\"1\" class=\"dataframe\">\n",
              "  <thead>\n",
              "    <tr style=\"text-align: right;\">\n",
              "      <th></th>\n",
              "      <th>X1</th>\n",
              "      <th>X2</th>\n",
              "      <th>X3</th>\n",
              "      <th>X4</th>\n",
              "      <th>X5</th>\n",
              "      <th>X6</th>\n",
              "      <th>X7</th>\n",
              "      <th>X8</th>\n",
              "      <th>Y1</th>\n",
              "      <th>Y2</th>\n",
              "    </tr>\n",
              "  </thead>\n",
              "  <tbody>\n",
              "    <tr>\n",
              "      <th>0</th>\n",
              "      <td>0.98</td>\n",
              "      <td>514.5</td>\n",
              "      <td>294.0</td>\n",
              "      <td>110.25</td>\n",
              "      <td>7.0</td>\n",
              "      <td>2</td>\n",
              "      <td>0.0</td>\n",
              "      <td>0</td>\n",
              "      <td>15.55</td>\n",
              "      <td>21.33</td>\n",
              "    </tr>\n",
              "    <tr>\n",
              "      <th>1</th>\n",
              "      <td>0.98</td>\n",
              "      <td>514.5</td>\n",
              "      <td>294.0</td>\n",
              "      <td>110.25</td>\n",
              "      <td>7.0</td>\n",
              "      <td>3</td>\n",
              "      <td>0.0</td>\n",
              "      <td>0</td>\n",
              "      <td>15.55</td>\n",
              "      <td>21.33</td>\n",
              "    </tr>\n",
              "    <tr>\n",
              "      <th>2</th>\n",
              "      <td>0.98</td>\n",
              "      <td>514.5</td>\n",
              "      <td>294.0</td>\n",
              "      <td>110.25</td>\n",
              "      <td>7.0</td>\n",
              "      <td>4</td>\n",
              "      <td>0.0</td>\n",
              "      <td>0</td>\n",
              "      <td>15.55</td>\n",
              "      <td>21.33</td>\n",
              "    </tr>\n",
              "    <tr>\n",
              "      <th>3</th>\n",
              "      <td>0.98</td>\n",
              "      <td>514.5</td>\n",
              "      <td>294.0</td>\n",
              "      <td>110.25</td>\n",
              "      <td>7.0</td>\n",
              "      <td>5</td>\n",
              "      <td>0.0</td>\n",
              "      <td>0</td>\n",
              "      <td>15.55</td>\n",
              "      <td>21.33</td>\n",
              "    </tr>\n",
              "    <tr>\n",
              "      <th>4</th>\n",
              "      <td>0.90</td>\n",
              "      <td>563.5</td>\n",
              "      <td>318.5</td>\n",
              "      <td>122.50</td>\n",
              "      <td>7.0</td>\n",
              "      <td>2</td>\n",
              "      <td>0.0</td>\n",
              "      <td>0</td>\n",
              "      <td>20.84</td>\n",
              "      <td>28.28</td>\n",
              "    </tr>\n",
              "  </tbody>\n",
              "</table>\n",
              "</div>\n",
              "    <div class=\"colab-df-buttons\">\n",
              "\n",
              "  <div class=\"colab-df-container\">\n",
              "    <button class=\"colab-df-convert\" onclick=\"convertToInteractive('df-14d5041a-3f93-4ba3-b1e0-f7eeee40b728')\"\n",
              "            title=\"Convert this dataframe to an interactive table.\"\n",
              "            style=\"display:none;\">\n",
              "\n",
              "  <svg xmlns=\"http://www.w3.org/2000/svg\" height=\"24px\" viewBox=\"0 -960 960 960\">\n",
              "    <path d=\"M120-120v-720h720v720H120Zm60-500h600v-160H180v160Zm220 220h160v-160H400v160Zm0 220h160v-160H400v160ZM180-400h160v-160H180v160Zm440 0h160v-160H620v160ZM180-180h160v-160H180v160Zm440 0h160v-160H620v160Z\"/>\n",
              "  </svg>\n",
              "    </button>\n",
              "\n",
              "  <style>\n",
              "    .colab-df-container {\n",
              "      display:flex;\n",
              "      gap: 12px;\n",
              "    }\n",
              "\n",
              "    .colab-df-convert {\n",
              "      background-color: #E8F0FE;\n",
              "      border: none;\n",
              "      border-radius: 50%;\n",
              "      cursor: pointer;\n",
              "      display: none;\n",
              "      fill: #1967D2;\n",
              "      height: 32px;\n",
              "      padding: 0 0 0 0;\n",
              "      width: 32px;\n",
              "    }\n",
              "\n",
              "    .colab-df-convert:hover {\n",
              "      background-color: #E2EBFA;\n",
              "      box-shadow: 0px 1px 2px rgba(60, 64, 67, 0.3), 0px 1px 3px 1px rgba(60, 64, 67, 0.15);\n",
              "      fill: #174EA6;\n",
              "    }\n",
              "\n",
              "    .colab-df-buttons div {\n",
              "      margin-bottom: 4px;\n",
              "    }\n",
              "\n",
              "    [theme=dark] .colab-df-convert {\n",
              "      background-color: #3B4455;\n",
              "      fill: #D2E3FC;\n",
              "    }\n",
              "\n",
              "    [theme=dark] .colab-df-convert:hover {\n",
              "      background-color: #434B5C;\n",
              "      box-shadow: 0px 1px 3px 1px rgba(0, 0, 0, 0.15);\n",
              "      filter: drop-shadow(0px 1px 2px rgba(0, 0, 0, 0.3));\n",
              "      fill: #FFFFFF;\n",
              "    }\n",
              "  </style>\n",
              "\n",
              "    <script>\n",
              "      const buttonEl =\n",
              "        document.querySelector('#df-14d5041a-3f93-4ba3-b1e0-f7eeee40b728 button.colab-df-convert');\n",
              "      buttonEl.style.display =\n",
              "        google.colab.kernel.accessAllowed ? 'block' : 'none';\n",
              "\n",
              "      async function convertToInteractive(key) {\n",
              "        const element = document.querySelector('#df-14d5041a-3f93-4ba3-b1e0-f7eeee40b728');\n",
              "        const dataTable =\n",
              "          await google.colab.kernel.invokeFunction('convertToInteractive',\n",
              "                                                    [key], {});\n",
              "        if (!dataTable) return;\n",
              "\n",
              "        const docLinkHtml = 'Like what you see? Visit the ' +\n",
              "          '<a target=\"_blank\" href=https://colab.research.google.com/notebooks/data_table.ipynb>data table notebook</a>'\n",
              "          + ' to learn more about interactive tables.';\n",
              "        element.innerHTML = '';\n",
              "        dataTable['output_type'] = 'display_data';\n",
              "        await google.colab.output.renderOutput(dataTable, element);\n",
              "        const docLink = document.createElement('div');\n",
              "        docLink.innerHTML = docLinkHtml;\n",
              "        element.appendChild(docLink);\n",
              "      }\n",
              "    </script>\n",
              "  </div>\n",
              "\n",
              "\n",
              "<div id=\"df-e26a15a8-1fa9-4fe8-8d6d-74a34c07f41a\">\n",
              "  <button class=\"colab-df-quickchart\" onclick=\"quickchart('df-e26a15a8-1fa9-4fe8-8d6d-74a34c07f41a')\"\n",
              "            title=\"Suggest charts\"\n",
              "            style=\"display:none;\">\n",
              "\n",
              "<svg xmlns=\"http://www.w3.org/2000/svg\" height=\"24px\"viewBox=\"0 0 24 24\"\n",
              "     width=\"24px\">\n",
              "    <g>\n",
              "        <path d=\"M19 3H5c-1.1 0-2 .9-2 2v14c0 1.1.9 2 2 2h14c1.1 0 2-.9 2-2V5c0-1.1-.9-2-2-2zM9 17H7v-7h2v7zm4 0h-2V7h2v10zm4 0h-2v-4h2v4z\"/>\n",
              "    </g>\n",
              "</svg>\n",
              "  </button>\n",
              "\n",
              "<style>\n",
              "  .colab-df-quickchart {\n",
              "      --bg-color: #E8F0FE;\n",
              "      --fill-color: #1967D2;\n",
              "      --hover-bg-color: #E2EBFA;\n",
              "      --hover-fill-color: #174EA6;\n",
              "      --disabled-fill-color: #AAA;\n",
              "      --disabled-bg-color: #DDD;\n",
              "  }\n",
              "\n",
              "  [theme=dark] .colab-df-quickchart {\n",
              "      --bg-color: #3B4455;\n",
              "      --fill-color: #D2E3FC;\n",
              "      --hover-bg-color: #434B5C;\n",
              "      --hover-fill-color: #FFFFFF;\n",
              "      --disabled-bg-color: #3B4455;\n",
              "      --disabled-fill-color: #666;\n",
              "  }\n",
              "\n",
              "  .colab-df-quickchart {\n",
              "    background-color: var(--bg-color);\n",
              "    border: none;\n",
              "    border-radius: 50%;\n",
              "    cursor: pointer;\n",
              "    display: none;\n",
              "    fill: var(--fill-color);\n",
              "    height: 32px;\n",
              "    padding: 0;\n",
              "    width: 32px;\n",
              "  }\n",
              "\n",
              "  .colab-df-quickchart:hover {\n",
              "    background-color: var(--hover-bg-color);\n",
              "    box-shadow: 0 1px 2px rgba(60, 64, 67, 0.3), 0 1px 3px 1px rgba(60, 64, 67, 0.15);\n",
              "    fill: var(--button-hover-fill-color);\n",
              "  }\n",
              "\n",
              "  .colab-df-quickchart-complete:disabled,\n",
              "  .colab-df-quickchart-complete:disabled:hover {\n",
              "    background-color: var(--disabled-bg-color);\n",
              "    fill: var(--disabled-fill-color);\n",
              "    box-shadow: none;\n",
              "  }\n",
              "\n",
              "  .colab-df-spinner {\n",
              "    border: 2px solid var(--fill-color);\n",
              "    border-color: transparent;\n",
              "    border-bottom-color: var(--fill-color);\n",
              "    animation:\n",
              "      spin 1s steps(1) infinite;\n",
              "  }\n",
              "\n",
              "  @keyframes spin {\n",
              "    0% {\n",
              "      border-color: transparent;\n",
              "      border-bottom-color: var(--fill-color);\n",
              "      border-left-color: var(--fill-color);\n",
              "    }\n",
              "    20% {\n",
              "      border-color: transparent;\n",
              "      border-left-color: var(--fill-color);\n",
              "      border-top-color: var(--fill-color);\n",
              "    }\n",
              "    30% {\n",
              "      border-color: transparent;\n",
              "      border-left-color: var(--fill-color);\n",
              "      border-top-color: var(--fill-color);\n",
              "      border-right-color: var(--fill-color);\n",
              "    }\n",
              "    40% {\n",
              "      border-color: transparent;\n",
              "      border-right-color: var(--fill-color);\n",
              "      border-top-color: var(--fill-color);\n",
              "    }\n",
              "    60% {\n",
              "      border-color: transparent;\n",
              "      border-right-color: var(--fill-color);\n",
              "    }\n",
              "    80% {\n",
              "      border-color: transparent;\n",
              "      border-right-color: var(--fill-color);\n",
              "      border-bottom-color: var(--fill-color);\n",
              "    }\n",
              "    90% {\n",
              "      border-color: transparent;\n",
              "      border-bottom-color: var(--fill-color);\n",
              "    }\n",
              "  }\n",
              "</style>\n",
              "\n",
              "  <script>\n",
              "    async function quickchart(key) {\n",
              "      const quickchartButtonEl =\n",
              "        document.querySelector('#' + key + ' button');\n",
              "      quickchartButtonEl.disabled = true;  // To prevent multiple clicks.\n",
              "      quickchartButtonEl.classList.add('colab-df-spinner');\n",
              "      try {\n",
              "        const charts = await google.colab.kernel.invokeFunction(\n",
              "            'suggestCharts', [key], {});\n",
              "      } catch (error) {\n",
              "        console.error('Error during call to suggestCharts:', error);\n",
              "      }\n",
              "      quickchartButtonEl.classList.remove('colab-df-spinner');\n",
              "      quickchartButtonEl.classList.add('colab-df-quickchart-complete');\n",
              "    }\n",
              "    (() => {\n",
              "      let quickchartButtonEl =\n",
              "        document.querySelector('#df-e26a15a8-1fa9-4fe8-8d6d-74a34c07f41a button');\n",
              "      quickchartButtonEl.style.display =\n",
              "        google.colab.kernel.accessAllowed ? 'block' : 'none';\n",
              "    })();\n",
              "  </script>\n",
              "</div>\n",
              "\n",
              "    </div>\n",
              "  </div>\n"
            ],
            "application/vnd.google.colaboratory.intrinsic+json": {
              "type": "dataframe",
              "variable_name": "df",
              "summary": "{\n  \"name\": \"df\",\n  \"rows\": 768,\n  \"fields\": [\n    {\n      \"column\": \"X1\",\n      \"properties\": {\n        \"dtype\": \"number\",\n        \"std\": 0.10577747587475206,\n        \"min\": 0.62,\n        \"max\": 0.98,\n        \"num_unique_values\": 12,\n        \"samples\": [\n          0.64,\n          0.66,\n          0.98\n        ],\n        \"semantic_type\": \"\",\n        \"description\": \"\"\n      }\n    },\n    {\n      \"column\": \"X2\",\n      \"properties\": {\n        \"dtype\": \"number\",\n        \"std\": 88.08611605586826,\n        \"min\": 514.5,\n        \"max\": 808.5,\n        \"num_unique_values\": 12,\n        \"samples\": [\n          784.0,\n          759.5,\n          514.5\n        ],\n        \"semantic_type\": \"\",\n        \"description\": \"\"\n      }\n    },\n    {\n      \"column\": \"X3\",\n      \"properties\": {\n        \"dtype\": \"number\",\n        \"std\": 43.6264814379949,\n        \"min\": 245.0,\n        \"max\": 416.5,\n        \"num_unique_values\": 7,\n        \"samples\": [\n          294.0,\n          318.5,\n          269.5\n        ],\n        \"semantic_type\": \"\",\n        \"description\": \"\"\n      }\n    },\n    {\n      \"column\": \"X4\",\n      \"properties\": {\n        \"dtype\": \"number\",\n        \"std\": 45.165950222920344,\n        \"min\": 110.25,\n        \"max\": 220.5,\n        \"num_unique_values\": 4,\n        \"samples\": [\n          122.5,\n          220.5,\n          110.25\n        ],\n        \"semantic_type\": \"\",\n        \"description\": \"\"\n      }\n    },\n    {\n      \"column\": \"X5\",\n      \"properties\": {\n        \"dtype\": \"number\",\n        \"std\": 1.7511404367453496,\n        \"min\": 3.5,\n        \"max\": 7.0,\n        \"num_unique_values\": 2,\n        \"samples\": [\n          3.5,\n          7.0\n        ],\n        \"semantic_type\": \"\",\n        \"description\": \"\"\n      }\n    },\n    {\n      \"column\": \"X6\",\n      \"properties\": {\n        \"dtype\": \"number\",\n        \"std\": 1,\n        \"min\": 2,\n        \"max\": 5,\n        \"num_unique_values\": 4,\n        \"samples\": [\n          3,\n          5\n        ],\n        \"semantic_type\": \"\",\n        \"description\": \"\"\n      }\n    },\n    {\n      \"column\": \"X7\",\n      \"properties\": {\n        \"dtype\": \"number\",\n        \"std\": 0.13322056291470877,\n        \"min\": 0.0,\n        \"max\": 0.4,\n        \"num_unique_values\": 4,\n        \"samples\": [\n          0.1,\n          0.4\n        ],\n        \"semantic_type\": \"\",\n        \"description\": \"\"\n      }\n    },\n    {\n      \"column\": \"X8\",\n      \"properties\": {\n        \"dtype\": \"number\",\n        \"std\": 1,\n        \"min\": 0,\n        \"max\": 5,\n        \"num_unique_values\": 6,\n        \"samples\": [\n          0,\n          1\n        ],\n        \"semantic_type\": \"\",\n        \"description\": \"\"\n      }\n    },\n    {\n      \"column\": \"Y1\",\n      \"properties\": {\n        \"dtype\": \"number\",\n        \"std\": 10.090195732006162,\n        \"min\": 6.01,\n        \"max\": 43.1,\n        \"num_unique_values\": 586,\n        \"samples\": [\n          16.47,\n          24.94\n        ],\n        \"semantic_type\": \"\",\n        \"description\": \"\"\n      }\n    },\n    {\n      \"column\": \"Y2\",\n      \"properties\": {\n        \"dtype\": \"number\",\n        \"std\": 9.513305562326163,\n        \"min\": 10.9,\n        \"max\": 48.03,\n        \"num_unique_values\": 636,\n        \"samples\": [\n          21.09,\n          20.82\n        ],\n        \"semantic_type\": \"\",\n        \"description\": \"\"\n      }\n    }\n  ]\n}"
            }
          },
          "metadata": {},
          "execution_count": 92
        }
      ]
    },
    {
      "cell_type": "code",
      "source": [
        "df.shape"
      ],
      "metadata": {
        "colab": {
          "base_uri": "https://localhost:8080/"
        },
        "id": "ltCK6nA3mtWq",
        "outputId": "ffaac6fc-f3f2-44b3-c536-322c296d89ff"
      },
      "execution_count": null,
      "outputs": [
        {
          "output_type": "execute_result",
          "data": {
            "text/plain": [
              "(768, 10)"
            ]
          },
          "metadata": {},
          "execution_count": 4
        }
      ]
    },
    {
      "cell_type": "markdown",
      "source": [
        "To find the shape of the dataset"
      ],
      "metadata": {
        "id": "rdgYxjLcbbRl"
      }
    },
    {
      "cell_type": "code",
      "source": [
        "df.info()"
      ],
      "metadata": {
        "colab": {
          "base_uri": "https://localhost:8080/"
        },
        "id": "OfIeD7-Rmynq",
        "outputId": "396ac0aa-7765-457e-a84e-3c30bbbe1f18"
      },
      "execution_count": null,
      "outputs": [
        {
          "output_type": "stream",
          "name": "stdout",
          "text": [
            "<class 'pandas.core.frame.DataFrame'>\n",
            "RangeIndex: 768 entries, 0 to 767\n",
            "Data columns (total 10 columns):\n",
            " #   Column  Non-Null Count  Dtype  \n",
            "---  ------  --------------  -----  \n",
            " 0   X1      768 non-null    float64\n",
            " 1   X2      768 non-null    float64\n",
            " 2   X3      768 non-null    float64\n",
            " 3   X4      768 non-null    float64\n",
            " 4   X5      768 non-null    float64\n",
            " 5   X6      768 non-null    int64  \n",
            " 6   X7      768 non-null    float64\n",
            " 7   X8      768 non-null    int64  \n",
            " 8   Y1      768 non-null    float64\n",
            " 9   Y2      768 non-null    float64\n",
            "dtypes: float64(8), int64(2)\n",
            "memory usage: 60.1 KB\n"
          ]
        }
      ]
    },
    {
      "cell_type": "markdown",
      "source": [
        " Info() is used to understand the structure of the dataset, detect data types, and check for missing values."
      ],
      "metadata": {
        "id": "sAO-awYwcPCD"
      }
    },
    {
      "cell_type": "code",
      "source": [
        "df.describe().T"
      ],
      "metadata": {
        "colab": {
          "base_uri": "https://localhost:8080/",
          "height": 363
        },
        "id": "IkGVRV7mmvSk",
        "outputId": "35d8d47e-dea8-4966-b605-39e33da0e9f6"
      },
      "execution_count": null,
      "outputs": [
        {
          "output_type": "execute_result",
          "data": {
            "text/plain": [
              "    count        mean        std     min       25%     50%       75%     max\n",
              "X1  768.0    0.764167   0.105777    0.62    0.6825    0.75    0.8300    0.98\n",
              "X2  768.0  671.708333  88.086116  514.50  606.3750  673.75  741.1250  808.50\n",
              "X3  768.0  318.500000  43.626481  245.00  294.0000  318.50  343.0000  416.50\n",
              "X4  768.0  176.604167  45.165950  110.25  140.8750  183.75  220.5000  220.50\n",
              "X5  768.0    5.250000   1.751140    3.50    3.5000    5.25    7.0000    7.00\n",
              "X6  768.0    3.500000   1.118763    2.00    2.7500    3.50    4.2500    5.00\n",
              "X7  768.0    0.234375   0.133221    0.00    0.1000    0.25    0.4000    0.40\n",
              "X8  768.0    2.812500   1.550960    0.00    1.7500    3.00    4.0000    5.00\n",
              "Y1  768.0   22.307201  10.090196    6.01   12.9925   18.95   31.6675   43.10\n",
              "Y2  768.0   24.587760   9.513306   10.90   15.6200   22.08   33.1325   48.03"
            ],
            "text/html": [
              "\n",
              "  <div id=\"df-a9c50dbf-5251-4e5b-a6d3-e44a87a54efd\" class=\"colab-df-container\">\n",
              "    <div>\n",
              "<style scoped>\n",
              "    .dataframe tbody tr th:only-of-type {\n",
              "        vertical-align: middle;\n",
              "    }\n",
              "\n",
              "    .dataframe tbody tr th {\n",
              "        vertical-align: top;\n",
              "    }\n",
              "\n",
              "    .dataframe thead th {\n",
              "        text-align: right;\n",
              "    }\n",
              "</style>\n",
              "<table border=\"1\" class=\"dataframe\">\n",
              "  <thead>\n",
              "    <tr style=\"text-align: right;\">\n",
              "      <th></th>\n",
              "      <th>count</th>\n",
              "      <th>mean</th>\n",
              "      <th>std</th>\n",
              "      <th>min</th>\n",
              "      <th>25%</th>\n",
              "      <th>50%</th>\n",
              "      <th>75%</th>\n",
              "      <th>max</th>\n",
              "    </tr>\n",
              "  </thead>\n",
              "  <tbody>\n",
              "    <tr>\n",
              "      <th>X1</th>\n",
              "      <td>768.0</td>\n",
              "      <td>0.764167</td>\n",
              "      <td>0.105777</td>\n",
              "      <td>0.62</td>\n",
              "      <td>0.6825</td>\n",
              "      <td>0.75</td>\n",
              "      <td>0.8300</td>\n",
              "      <td>0.98</td>\n",
              "    </tr>\n",
              "    <tr>\n",
              "      <th>X2</th>\n",
              "      <td>768.0</td>\n",
              "      <td>671.708333</td>\n",
              "      <td>88.086116</td>\n",
              "      <td>514.50</td>\n",
              "      <td>606.3750</td>\n",
              "      <td>673.75</td>\n",
              "      <td>741.1250</td>\n",
              "      <td>808.50</td>\n",
              "    </tr>\n",
              "    <tr>\n",
              "      <th>X3</th>\n",
              "      <td>768.0</td>\n",
              "      <td>318.500000</td>\n",
              "      <td>43.626481</td>\n",
              "      <td>245.00</td>\n",
              "      <td>294.0000</td>\n",
              "      <td>318.50</td>\n",
              "      <td>343.0000</td>\n",
              "      <td>416.50</td>\n",
              "    </tr>\n",
              "    <tr>\n",
              "      <th>X4</th>\n",
              "      <td>768.0</td>\n",
              "      <td>176.604167</td>\n",
              "      <td>45.165950</td>\n",
              "      <td>110.25</td>\n",
              "      <td>140.8750</td>\n",
              "      <td>183.75</td>\n",
              "      <td>220.5000</td>\n",
              "      <td>220.50</td>\n",
              "    </tr>\n",
              "    <tr>\n",
              "      <th>X5</th>\n",
              "      <td>768.0</td>\n",
              "      <td>5.250000</td>\n",
              "      <td>1.751140</td>\n",
              "      <td>3.50</td>\n",
              "      <td>3.5000</td>\n",
              "      <td>5.25</td>\n",
              "      <td>7.0000</td>\n",
              "      <td>7.00</td>\n",
              "    </tr>\n",
              "    <tr>\n",
              "      <th>X6</th>\n",
              "      <td>768.0</td>\n",
              "      <td>3.500000</td>\n",
              "      <td>1.118763</td>\n",
              "      <td>2.00</td>\n",
              "      <td>2.7500</td>\n",
              "      <td>3.50</td>\n",
              "      <td>4.2500</td>\n",
              "      <td>5.00</td>\n",
              "    </tr>\n",
              "    <tr>\n",
              "      <th>X7</th>\n",
              "      <td>768.0</td>\n",
              "      <td>0.234375</td>\n",
              "      <td>0.133221</td>\n",
              "      <td>0.00</td>\n",
              "      <td>0.1000</td>\n",
              "      <td>0.25</td>\n",
              "      <td>0.4000</td>\n",
              "      <td>0.40</td>\n",
              "    </tr>\n",
              "    <tr>\n",
              "      <th>X8</th>\n",
              "      <td>768.0</td>\n",
              "      <td>2.812500</td>\n",
              "      <td>1.550960</td>\n",
              "      <td>0.00</td>\n",
              "      <td>1.7500</td>\n",
              "      <td>3.00</td>\n",
              "      <td>4.0000</td>\n",
              "      <td>5.00</td>\n",
              "    </tr>\n",
              "    <tr>\n",
              "      <th>Y1</th>\n",
              "      <td>768.0</td>\n",
              "      <td>22.307201</td>\n",
              "      <td>10.090196</td>\n",
              "      <td>6.01</td>\n",
              "      <td>12.9925</td>\n",
              "      <td>18.95</td>\n",
              "      <td>31.6675</td>\n",
              "      <td>43.10</td>\n",
              "    </tr>\n",
              "    <tr>\n",
              "      <th>Y2</th>\n",
              "      <td>768.0</td>\n",
              "      <td>24.587760</td>\n",
              "      <td>9.513306</td>\n",
              "      <td>10.90</td>\n",
              "      <td>15.6200</td>\n",
              "      <td>22.08</td>\n",
              "      <td>33.1325</td>\n",
              "      <td>48.03</td>\n",
              "    </tr>\n",
              "  </tbody>\n",
              "</table>\n",
              "</div>\n",
              "    <div class=\"colab-df-buttons\">\n",
              "\n",
              "  <div class=\"colab-df-container\">\n",
              "    <button class=\"colab-df-convert\" onclick=\"convertToInteractive('df-a9c50dbf-5251-4e5b-a6d3-e44a87a54efd')\"\n",
              "            title=\"Convert this dataframe to an interactive table.\"\n",
              "            style=\"display:none;\">\n",
              "\n",
              "  <svg xmlns=\"http://www.w3.org/2000/svg\" height=\"24px\" viewBox=\"0 -960 960 960\">\n",
              "    <path d=\"M120-120v-720h720v720H120Zm60-500h600v-160H180v160Zm220 220h160v-160H400v160Zm0 220h160v-160H400v160ZM180-400h160v-160H180v160Zm440 0h160v-160H620v160ZM180-180h160v-160H180v160Zm440 0h160v-160H620v160Z\"/>\n",
              "  </svg>\n",
              "    </button>\n",
              "\n",
              "  <style>\n",
              "    .colab-df-container {\n",
              "      display:flex;\n",
              "      gap: 12px;\n",
              "    }\n",
              "\n",
              "    .colab-df-convert {\n",
              "      background-color: #E8F0FE;\n",
              "      border: none;\n",
              "      border-radius: 50%;\n",
              "      cursor: pointer;\n",
              "      display: none;\n",
              "      fill: #1967D2;\n",
              "      height: 32px;\n",
              "      padding: 0 0 0 0;\n",
              "      width: 32px;\n",
              "    }\n",
              "\n",
              "    .colab-df-convert:hover {\n",
              "      background-color: #E2EBFA;\n",
              "      box-shadow: 0px 1px 2px rgba(60, 64, 67, 0.3), 0px 1px 3px 1px rgba(60, 64, 67, 0.15);\n",
              "      fill: #174EA6;\n",
              "    }\n",
              "\n",
              "    .colab-df-buttons div {\n",
              "      margin-bottom: 4px;\n",
              "    }\n",
              "\n",
              "    [theme=dark] .colab-df-convert {\n",
              "      background-color: #3B4455;\n",
              "      fill: #D2E3FC;\n",
              "    }\n",
              "\n",
              "    [theme=dark] .colab-df-convert:hover {\n",
              "      background-color: #434B5C;\n",
              "      box-shadow: 0px 1px 3px 1px rgba(0, 0, 0, 0.15);\n",
              "      filter: drop-shadow(0px 1px 2px rgba(0, 0, 0, 0.3));\n",
              "      fill: #FFFFFF;\n",
              "    }\n",
              "  </style>\n",
              "\n",
              "    <script>\n",
              "      const buttonEl =\n",
              "        document.querySelector('#df-a9c50dbf-5251-4e5b-a6d3-e44a87a54efd button.colab-df-convert');\n",
              "      buttonEl.style.display =\n",
              "        google.colab.kernel.accessAllowed ? 'block' : 'none';\n",
              "\n",
              "      async function convertToInteractive(key) {\n",
              "        const element = document.querySelector('#df-a9c50dbf-5251-4e5b-a6d3-e44a87a54efd');\n",
              "        const dataTable =\n",
              "          await google.colab.kernel.invokeFunction('convertToInteractive',\n",
              "                                                    [key], {});\n",
              "        if (!dataTable) return;\n",
              "\n",
              "        const docLinkHtml = 'Like what you see? Visit the ' +\n",
              "          '<a target=\"_blank\" href=https://colab.research.google.com/notebooks/data_table.ipynb>data table notebook</a>'\n",
              "          + ' to learn more about interactive tables.';\n",
              "        element.innerHTML = '';\n",
              "        dataTable['output_type'] = 'display_data';\n",
              "        await google.colab.output.renderOutput(dataTable, element);\n",
              "        const docLink = document.createElement('div');\n",
              "        docLink.innerHTML = docLinkHtml;\n",
              "        element.appendChild(docLink);\n",
              "      }\n",
              "    </script>\n",
              "  </div>\n",
              "\n",
              "\n",
              "<div id=\"df-0d2958c3-5c18-44c5-9d05-8a2f03e32821\">\n",
              "  <button class=\"colab-df-quickchart\" onclick=\"quickchart('df-0d2958c3-5c18-44c5-9d05-8a2f03e32821')\"\n",
              "            title=\"Suggest charts\"\n",
              "            style=\"display:none;\">\n",
              "\n",
              "<svg xmlns=\"http://www.w3.org/2000/svg\" height=\"24px\"viewBox=\"0 0 24 24\"\n",
              "     width=\"24px\">\n",
              "    <g>\n",
              "        <path d=\"M19 3H5c-1.1 0-2 .9-2 2v14c0 1.1.9 2 2 2h14c1.1 0 2-.9 2-2V5c0-1.1-.9-2-2-2zM9 17H7v-7h2v7zm4 0h-2V7h2v10zm4 0h-2v-4h2v4z\"/>\n",
              "    </g>\n",
              "</svg>\n",
              "  </button>\n",
              "\n",
              "<style>\n",
              "  .colab-df-quickchart {\n",
              "      --bg-color: #E8F0FE;\n",
              "      --fill-color: #1967D2;\n",
              "      --hover-bg-color: #E2EBFA;\n",
              "      --hover-fill-color: #174EA6;\n",
              "      --disabled-fill-color: #AAA;\n",
              "      --disabled-bg-color: #DDD;\n",
              "  }\n",
              "\n",
              "  [theme=dark] .colab-df-quickchart {\n",
              "      --bg-color: #3B4455;\n",
              "      --fill-color: #D2E3FC;\n",
              "      --hover-bg-color: #434B5C;\n",
              "      --hover-fill-color: #FFFFFF;\n",
              "      --disabled-bg-color: #3B4455;\n",
              "      --disabled-fill-color: #666;\n",
              "  }\n",
              "\n",
              "  .colab-df-quickchart {\n",
              "    background-color: var(--bg-color);\n",
              "    border: none;\n",
              "    border-radius: 50%;\n",
              "    cursor: pointer;\n",
              "    display: none;\n",
              "    fill: var(--fill-color);\n",
              "    height: 32px;\n",
              "    padding: 0;\n",
              "    width: 32px;\n",
              "  }\n",
              "\n",
              "  .colab-df-quickchart:hover {\n",
              "    background-color: var(--hover-bg-color);\n",
              "    box-shadow: 0 1px 2px rgba(60, 64, 67, 0.3), 0 1px 3px 1px rgba(60, 64, 67, 0.15);\n",
              "    fill: var(--button-hover-fill-color);\n",
              "  }\n",
              "\n",
              "  .colab-df-quickchart-complete:disabled,\n",
              "  .colab-df-quickchart-complete:disabled:hover {\n",
              "    background-color: var(--disabled-bg-color);\n",
              "    fill: var(--disabled-fill-color);\n",
              "    box-shadow: none;\n",
              "  }\n",
              "\n",
              "  .colab-df-spinner {\n",
              "    border: 2px solid var(--fill-color);\n",
              "    border-color: transparent;\n",
              "    border-bottom-color: var(--fill-color);\n",
              "    animation:\n",
              "      spin 1s steps(1) infinite;\n",
              "  }\n",
              "\n",
              "  @keyframes spin {\n",
              "    0% {\n",
              "      border-color: transparent;\n",
              "      border-bottom-color: var(--fill-color);\n",
              "      border-left-color: var(--fill-color);\n",
              "    }\n",
              "    20% {\n",
              "      border-color: transparent;\n",
              "      border-left-color: var(--fill-color);\n",
              "      border-top-color: var(--fill-color);\n",
              "    }\n",
              "    30% {\n",
              "      border-color: transparent;\n",
              "      border-left-color: var(--fill-color);\n",
              "      border-top-color: var(--fill-color);\n",
              "      border-right-color: var(--fill-color);\n",
              "    }\n",
              "    40% {\n",
              "      border-color: transparent;\n",
              "      border-right-color: var(--fill-color);\n",
              "      border-top-color: var(--fill-color);\n",
              "    }\n",
              "    60% {\n",
              "      border-color: transparent;\n",
              "      border-right-color: var(--fill-color);\n",
              "    }\n",
              "    80% {\n",
              "      border-color: transparent;\n",
              "      border-right-color: var(--fill-color);\n",
              "      border-bottom-color: var(--fill-color);\n",
              "    }\n",
              "    90% {\n",
              "      border-color: transparent;\n",
              "      border-bottom-color: var(--fill-color);\n",
              "    }\n",
              "  }\n",
              "</style>\n",
              "\n",
              "  <script>\n",
              "    async function quickchart(key) {\n",
              "      const quickchartButtonEl =\n",
              "        document.querySelector('#' + key + ' button');\n",
              "      quickchartButtonEl.disabled = true;  // To prevent multiple clicks.\n",
              "      quickchartButtonEl.classList.add('colab-df-spinner');\n",
              "      try {\n",
              "        const charts = await google.colab.kernel.invokeFunction(\n",
              "            'suggestCharts', [key], {});\n",
              "      } catch (error) {\n",
              "        console.error('Error during call to suggestCharts:', error);\n",
              "      }\n",
              "      quickchartButtonEl.classList.remove('colab-df-spinner');\n",
              "      quickchartButtonEl.classList.add('colab-df-quickchart-complete');\n",
              "    }\n",
              "    (() => {\n",
              "      let quickchartButtonEl =\n",
              "        document.querySelector('#df-0d2958c3-5c18-44c5-9d05-8a2f03e32821 button');\n",
              "      quickchartButtonEl.style.display =\n",
              "        google.colab.kernel.accessAllowed ? 'block' : 'none';\n",
              "    })();\n",
              "  </script>\n",
              "</div>\n",
              "\n",
              "    </div>\n",
              "  </div>\n"
            ],
            "application/vnd.google.colaboratory.intrinsic+json": {
              "type": "dataframe",
              "summary": "{\n  \"name\": \"df\",\n  \"rows\": 10,\n  \"fields\": [\n    {\n      \"column\": \"count\",\n      \"properties\": {\n        \"dtype\": \"number\",\n        \"std\": 0.0,\n        \"min\": 768.0,\n        \"max\": 768.0,\n        \"num_unique_values\": 1,\n        \"samples\": [\n          768.0\n        ],\n        \"semantic_type\": \"\",\n        \"description\": \"\"\n      }\n    },\n    {\n      \"column\": \"mean\",\n      \"properties\": {\n        \"dtype\": \"number\",\n        \"std\": 219.74744427828327,\n        \"min\": 0.234375,\n        \"max\": 671.7083333333334,\n        \"num_unique_values\": 10,\n        \"samples\": [\n          22.307200520833334\n        ],\n        \"semantic_type\": \"\",\n        \"description\": \"\"\n      }\n    },\n    {\n      \"column\": \"std\",\n      \"properties\": {\n        \"dtype\": \"number\",\n        \"std\": 29.544049158963308,\n        \"min\": 0.10577747587475206,\n        \"max\": 88.08611605586826,\n        \"num_unique_values\": 10,\n        \"samples\": [\n          10.090195732006162\n        ],\n        \"semantic_type\": \"\",\n        \"description\": \"\"\n      }\n    },\n    {\n      \"column\": \"min\",\n      \"properties\": {\n        \"dtype\": \"number\",\n        \"std\": 169.1009771178813,\n        \"min\": 0.0,\n        \"max\": 514.5,\n        \"num_unique_values\": 9,\n        \"samples\": [\n          6.01\n        ],\n        \"semantic_type\": \"\",\n        \"description\": \"\"\n      }\n    },\n    {\n      \"column\": \"25%\",\n      \"properties\": {\n        \"dtype\": \"number\",\n        \"std\": 199.46067362598907,\n        \"min\": 0.1,\n        \"max\": 606.375,\n        \"num_unique_values\": 10,\n        \"samples\": [\n          12.9925\n        ],\n        \"semantic_type\": \"\",\n        \"description\": \"\"\n      }\n    },\n    {\n      \"column\": \"50%\",\n      \"properties\": {\n        \"dtype\": \"number\",\n        \"std\": 220.80800019725532,\n        \"min\": 0.25,\n        \"max\": 673.75,\n        \"num_unique_values\": 10,\n        \"samples\": [\n          18.95\n        ],\n        \"semantic_type\": \"\",\n        \"description\": \"\"\n      }\n    },\n    {\n      \"column\": \"75%\",\n      \"properties\": {\n        \"dtype\": \"number\",\n        \"std\": 241.67166735860636,\n        \"min\": 0.4,\n        \"max\": 741.125,\n        \"num_unique_values\": 10,\n        \"samples\": [\n          31.6675\n        ],\n        \"semantic_type\": \"\",\n        \"description\": \"\"\n      }\n    },\n    {\n      \"column\": \"max\",\n      \"properties\": {\n        \"dtype\": \"number\",\n        \"std\": 266.29635773576274,\n        \"min\": 0.4,\n        \"max\": 808.5,\n        \"num_unique_values\": 9,\n        \"samples\": [\n          43.1\n        ],\n        \"semantic_type\": \"\",\n        \"description\": \"\"\n      }\n    }\n  ]\n}"
            }
          },
          "metadata": {},
          "execution_count": 6
        }
      ]
    },
    {
      "cell_type": "markdown",
      "source": [
        "Let's describe the dataset.It is commonly used to get an overview of the data, helping identify key characteristics like central tendency, spread, and the distribution of values."
      ],
      "metadata": {
        "id": "N8vP_eB9bg0O"
      }
    },
    {
      "cell_type": "markdown",
      "source": [
        "# 3.Data Preprocessing"
      ],
      "metadata": {
        "id": "TZS6zkWIJOD8"
      }
    },
    {
      "cell_type": "markdown",
      "source": [
        "# Finding Missing values"
      ],
      "metadata": {
        "id": "lUxhziD7Jh32"
      }
    },
    {
      "cell_type": "code",
      "source": [
        "df.isnull().sum()"
      ],
      "metadata": {
        "colab": {
          "base_uri": "https://localhost:8080/",
          "height": 397
        },
        "id": "4m7yfbOBm_-0",
        "outputId": "0e08c091-0ffb-48a9-fb1f-71bec10a3547"
      },
      "execution_count": null,
      "outputs": [
        {
          "output_type": "execute_result",
          "data": {
            "text/plain": [
              "X1    0\n",
              "X2    0\n",
              "X3    0\n",
              "X4    0\n",
              "X5    0\n",
              "X6    0\n",
              "X7    0\n",
              "X8    0\n",
              "Y1    0\n",
              "Y2    0\n",
              "dtype: int64"
            ],
            "text/html": [
              "<div>\n",
              "<style scoped>\n",
              "    .dataframe tbody tr th:only-of-type {\n",
              "        vertical-align: middle;\n",
              "    }\n",
              "\n",
              "    .dataframe tbody tr th {\n",
              "        vertical-align: top;\n",
              "    }\n",
              "\n",
              "    .dataframe thead th {\n",
              "        text-align: right;\n",
              "    }\n",
              "</style>\n",
              "<table border=\"1\" class=\"dataframe\">\n",
              "  <thead>\n",
              "    <tr style=\"text-align: right;\">\n",
              "      <th></th>\n",
              "      <th>0</th>\n",
              "    </tr>\n",
              "  </thead>\n",
              "  <tbody>\n",
              "    <tr>\n",
              "      <th>X1</th>\n",
              "      <td>0</td>\n",
              "    </tr>\n",
              "    <tr>\n",
              "      <th>X2</th>\n",
              "      <td>0</td>\n",
              "    </tr>\n",
              "    <tr>\n",
              "      <th>X3</th>\n",
              "      <td>0</td>\n",
              "    </tr>\n",
              "    <tr>\n",
              "      <th>X4</th>\n",
              "      <td>0</td>\n",
              "    </tr>\n",
              "    <tr>\n",
              "      <th>X5</th>\n",
              "      <td>0</td>\n",
              "    </tr>\n",
              "    <tr>\n",
              "      <th>X6</th>\n",
              "      <td>0</td>\n",
              "    </tr>\n",
              "    <tr>\n",
              "      <th>X7</th>\n",
              "      <td>0</td>\n",
              "    </tr>\n",
              "    <tr>\n",
              "      <th>X8</th>\n",
              "      <td>0</td>\n",
              "    </tr>\n",
              "    <tr>\n",
              "      <th>Y1</th>\n",
              "      <td>0</td>\n",
              "    </tr>\n",
              "    <tr>\n",
              "      <th>Y2</th>\n",
              "      <td>0</td>\n",
              "    </tr>\n",
              "  </tbody>\n",
              "</table>\n",
              "</div><br><label><b>dtype:</b> int64</label>"
            ]
          },
          "metadata": {},
          "execution_count": 7
        }
      ]
    },
    {
      "cell_type": "markdown",
      "source": [
        "Here there are no missing values. so we need not to do filling  of missing values."
      ],
      "metadata": {
        "id": "wiX2J0havR6r"
      }
    },
    {
      "cell_type": "code",
      "source": [
        "df.duplicated().sum()"
      ],
      "metadata": {
        "colab": {
          "base_uri": "https://localhost:8080/"
        },
        "id": "o1qqDEKxnF_4",
        "outputId": "420d597c-04a2-45e2-e245-237c49a55645"
      },
      "execution_count": null,
      "outputs": [
        {
          "output_type": "execute_result",
          "data": {
            "text/plain": [
              "0"
            ]
          },
          "metadata": {},
          "execution_count": 8
        }
      ]
    },
    {
      "cell_type": "markdown",
      "source": [
        "df.duplicated().sum() is commonly used to check for duplicate entries in the dataset, which can affect data analysis and model performance.\n"
      ],
      "metadata": {
        "id": "WVU8q4Vucfwe"
      }
    },
    {
      "cell_type": "markdown",
      "source": [
        "# Feature and Target Variable Separation\n"
      ],
      "metadata": {
        "id": "_UA7t-6LwAaR"
      }
    },
    {
      "cell_type": "code",
      "source": [
        "x=df.drop(['Y1','Y2'],axis=1)\n",
        "y1=df['Y1']\n",
        "y2=df['Y2']\n",
        "print(x)\n",
        "print(y1)\n",
        "print(y2)"
      ],
      "metadata": {
        "colab": {
          "base_uri": "https://localhost:8080/"
        },
        "id": "RGkUC2onnE5Y",
        "outputId": "909d11be-0587-4b68-fb90-902e98bf411d"
      },
      "execution_count": 93,
      "outputs": [
        {
          "output_type": "stream",
          "name": "stdout",
          "text": [
            "       X1     X2     X3      X4   X5  X6   X7  X8\n",
            "0    0.98  514.5  294.0  110.25  7.0   2  0.0   0\n",
            "1    0.98  514.5  294.0  110.25  7.0   3  0.0   0\n",
            "2    0.98  514.5  294.0  110.25  7.0   4  0.0   0\n",
            "3    0.98  514.5  294.0  110.25  7.0   5  0.0   0\n",
            "4    0.90  563.5  318.5  122.50  7.0   2  0.0   0\n",
            "..    ...    ...    ...     ...  ...  ..  ...  ..\n",
            "763  0.64  784.0  343.0  220.50  3.5   5  0.4   5\n",
            "764  0.62  808.5  367.5  220.50  3.5   2  0.4   5\n",
            "765  0.62  808.5  367.5  220.50  3.5   3  0.4   5\n",
            "766  0.62  808.5  367.5  220.50  3.5   4  0.4   5\n",
            "767  0.62  808.5  367.5  220.50  3.5   5  0.4   5\n",
            "\n",
            "[768 rows x 8 columns]\n",
            "0      15.55\n",
            "1      15.55\n",
            "2      15.55\n",
            "3      15.55\n",
            "4      20.84\n",
            "       ...  \n",
            "763    17.88\n",
            "764    16.54\n",
            "765    16.44\n",
            "766    16.48\n",
            "767    16.64\n",
            "Name: Y1, Length: 768, dtype: float64\n",
            "0      21.33\n",
            "1      21.33\n",
            "2      21.33\n",
            "3      21.33\n",
            "4      28.28\n",
            "       ...  \n",
            "763    21.40\n",
            "764    16.88\n",
            "765    17.11\n",
            "766    16.61\n",
            "767    16.03\n",
            "Name: Y2, Length: 768, dtype: float64\n"
          ]
        }
      ]
    },
    {
      "cell_type": "markdown",
      "source": [
        "lets divide the feature variables and target variables.Consider input variables as x. Here we need to find two targets seperatily by dividing them into y1 and y2."
      ],
      "metadata": {
        "id": "KMZ_d6wNwHqJ"
      }
    },
    {
      "cell_type": "markdown",
      "source": [
        "# Normalization"
      ],
      "metadata": {
        "id": "jsTJ_xWKxMoN"
      }
    },
    {
      "cell_type": "code",
      "source": [
        "from sklearn.preprocessing import  MinMaxScaler\n",
        "m_x = MinMaxScaler()\n",
        "m_y1 = MinMaxScaler()\n",
        "m_y2 = MinMaxScaler()\n",
        "x_scaled = m_x.fit_transform(x)\n",
        "y1_scaled = m_y1.fit_transform(y1.values.reshape(-1, 1))\n",
        "y2_scaled = m_y2.fit_transform(y2.values.reshape(-1, 1))\n",
        "\n"
      ],
      "metadata": {
        "id": "EhNy9RMZffUP"
      },
      "execution_count": 94,
      "outputs": []
    },
    {
      "cell_type": "markdown",
      "source": [
        "Normalization is a technique used in data preprocessing to scale the features (or variables) of a dataset to a similar range, usually between 0 and 1.This helps to increase model performance."
      ],
      "metadata": {
        "id": "VvTMJJgWxdQP"
      }
    },
    {
      "cell_type": "markdown",
      "source": [
        "# Splitting into train and test data"
      ],
      "metadata": {
        "id": "qaRS29Bixr2E"
      }
    },
    {
      "cell_type": "markdown",
      "source": [
        "Now we have to split the dataset into train and test data.The size of test data is 20% of dataset.Remaining data is training data.\n",
        "we have to split this because, we train the training data and evaluate the model performance on test data.This ensures that the model's performance can be evaluated on unseen data, helping to prevent overfitting."
      ],
      "metadata": {
        "id": "m-SaAZjwIRZG"
      }
    },
    {
      "cell_type": "code",
      "source": [
        "from sklearn.model_selection import train_test_split\n",
        "x_train,x_test,y_train_1,y_test_1=train_test_split(x_scaled,y1_scaled,test_size=0.2,random_state=42)\n",
        "x_train,x_test,y_train_2,y_test_2=train_test_split(x_scaled,y2_scaled,test_size=0.2,random_state=42)"
      ],
      "metadata": {
        "id": "3S3t6PcHoOOt"
      },
      "execution_count": 95,
      "outputs": []
    },
    {
      "cell_type": "markdown",
      "source": [
        "let's find the shape"
      ],
      "metadata": {
        "id": "Z11SQFdox0Pl"
      }
    },
    {
      "cell_type": "code",
      "source": [
        "print(x_train.shape)\n",
        "print(x_test.shape)\n",
        "print(y_train_1.shape)\n",
        "print(y_test_1.shape)\n",
        "print(x_train.shape)\n",
        "print(x_test.shape)\n",
        "print(y_train_2.shape)\n",
        "print(y_test_2.shape)\n"
      ],
      "metadata": {
        "colab": {
          "base_uri": "https://localhost:8080/"
        },
        "id": "hG2UogXzoOLd",
        "outputId": "e5f4177b-2806-4e90-d8fa-d8bb82676db2"
      },
      "execution_count": null,
      "outputs": [
        {
          "output_type": "stream",
          "name": "stdout",
          "text": [
            "(614, 8)\n",
            "(154, 8)\n",
            "(614, 1)\n",
            "(154, 1)\n",
            "(614, 8)\n",
            "(154, 8)\n",
            "(614, 1)\n",
            "(154, 1)\n"
          ]
        }
      ]
    },
    {
      "cell_type": "markdown",
      "source": [
        "# 5.Algorithm Evaluation and Comparison"
      ],
      "metadata": {
        "id": "po4VR1M_x9H7"
      }
    },
    {
      "cell_type": "markdown",
      "source": [
        "Evaluating Model Performance Using Regression Metrics"
      ],
      "metadata": {
        "id": "JCxvI9NtOOH1"
      }
    },
    {
      "cell_type": "code",
      "source": [
        "from sklearn.metrics import mean_absolute_error, mean_squared_error, r2_score\n",
        "def evaluate_regression(y_test_1, y_pred_1,y_test_2,y_pred_2, model_name=\"Model\"):\n",
        "    mae_1 = mean_absolute_error(y_test_1, y_pred_1)\n",
        "    mse_1 = mean_squared_error(y_test_1, y_pred_1)\n",
        "    rmse_1 = np.sqrt(mse_1)\n",
        "    r2_1 = r2_score(y_test_1, y_pred_1)\n",
        "    mae_2 = mean_absolute_error(y_test_2, y_pred_2)\n",
        "    mse_2 = mean_squared_error(y_test_2, y_pred_2)\n",
        "    rmse_2 = np.sqrt(mse_2)\n",
        "    r2_2 = r2_score(y_test_2, y_pred_2)\n",
        "    print(f\"\\n{model_name} Performance Metrics:\")\n",
        "    print(f\"Mean Absolute Error (MAE): {mae_1}\")\n",
        "    print(f\"Mean Squared Error (MSE): {mse_1}\")\n",
        "    print(f\"Root Mean Squared Error (RMSE): {rmse_1}\")\n",
        "    print(f\"R-squared (R2): {r2_1}\")\n",
        "    print(f\"\\n{model_name} Performance Metrics:\")\n",
        "    print(f\"Mean Absolute Error (MAE): {mae_2}\")\n",
        "    print(f\"Mean Squared Error (MSE): {mse_2}\")\n",
        "    print(f\"Root Mean Squared Error (RMSE): {rmse_2}\")\n",
        "    print(f\"R-squared (R2): {r2_2}\")"
      ],
      "metadata": {
        "id": "eDo_Irj0K1ob"
      },
      "execution_count": 96,
      "outputs": []
    },
    {
      "cell_type": "markdown",
      "source": [
        "# **a**.***Support*** ***Vector*** ***Regressor***"
      ],
      "metadata": {
        "id": "q3K4P0tyyFt8"
      }
    },
    {
      "cell_type": "code",
      "source": [
        "from sklearn.svm import SVR\n",
        "svr_1=SVR()\n",
        "svr_1.fit(x_train,y_train_1)\n",
        "y_pred_1=svr_1.predict(x_test)\n",
        "\n",
        "svr_2=SVR()\n",
        "svr_2.fit(x_train,y_train_2)\n",
        "y_pred_2=svr_2.predict(x_test)\n",
        "evaluate_regression(y_test_1, y_pred_1,y_test_2,y_pred_2,\"SVR\")"
      ],
      "metadata": {
        "colab": {
          "base_uri": "https://localhost:8080/"
        },
        "id": "1XnkFuC8oclq",
        "outputId": "0e093258-b91d-4abd-e704-5a68df2a5d52"
      },
      "execution_count": null,
      "outputs": [
        {
          "output_type": "stream",
          "name": "stdout",
          "text": [
            "\n",
            "SVR Performance Metrics:\n",
            "Mean Absolute Error (MAE): 0.0623122925390864\n",
            "Mean Squared Error (MSE): 0.005126974858004193\n",
            "Root Mean Squared Error (RMSE): 0.07160289699449453\n",
            "R-squared (R2): 0.9323331968275725\n",
            "\n",
            "SVR Performance Metrics:\n",
            "Mean Absolute Error (MAE): 0.06454294564909405\n",
            "Mean Squared Error (MSE): 0.006272713513616545\n",
            "Root Mean Squared Error (RMSE): 0.07920046409975477\n",
            "R-squared (R2): 0.9066689812221665\n"
          ]
        }
      ]
    },
    {
      "cell_type": "markdown",
      "source": [
        "# ***b.Linear Regression***"
      ],
      "metadata": {
        "id": "D5vh1WL8OhjP"
      }
    },
    {
      "cell_type": "code",
      "source": [
        "from sklearn.linear_model import LinearRegression\n",
        "model = LinearRegression()\n",
        "model.fit(x_train, y_train_1)\n",
        "y_pred_1 = model.predict(x_test)\n",
        "model = LinearRegression()\n",
        "model.fit(x_train, y_train_2)\n",
        "y_pred_2 = model.predict(x_test)\n",
        "evaluate_regression(y_test_1, y_pred_1,y_test_2,y_pred_2,\"Linear Regression\")\n"
      ],
      "metadata": {
        "id": "ZmFxwT-jmofL",
        "colab": {
          "base_uri": "https://localhost:8080/"
        },
        "outputId": "7622db3f-2f88-4e39-912f-17cd53ef4885"
      },
      "execution_count": null,
      "outputs": [
        {
          "output_type": "stream",
          "name": "stdout",
          "text": [
            "\n",
            "Linear Regression Performance Metrics:\n",
            "Mean Absolute Error (MAE): 0.05883114106572995\n",
            "Mean Squared Error (MSE): 0.006653630955899004\n",
            "Root Mean Squared Error (RMSE): 0.08156979193242438\n",
            "R-squared (R2): 0.9121840951546909\n",
            "\n",
            "Linear Regression Performance Metrics:\n",
            "Mean Absolute Error (MAE): 0.05912456801820292\n",
            "Mean Squared Error (MSE): 0.007176238825425381\n",
            "Root Mean Squared Error (RMSE): 0.08471268397014335\n",
            "R-squared (R2): 0.8932255268607286\n"
          ]
        }
      ]
    },
    {
      "cell_type": "markdown",
      "source": [
        "# ***c.Decision Tree Regressor***"
      ],
      "metadata": {
        "id": "9x_yhi28OtPj"
      }
    },
    {
      "cell_type": "code",
      "source": [
        "from sklearn.tree import DecisionTreeRegressor\n",
        "decision_tree_model = DecisionTreeRegressor(random_state=42)\n",
        "decision_tree_model.fit(x_train, y_train_1)\n",
        "y_pred_1= decision_tree_model.predict(x_test)\n",
        "decision_tree_model = DecisionTreeRegressor(random_state=42)\n",
        "decision_tree_model.fit(x_train, y_train_2)\n",
        "y_pred_2 = decision_tree_model.predict(x_test)\n",
        "evaluate_regression(y_test_1, y_pred_1,y_test_2,y_pred_2,\"Decision Tree Regressor\")\n"
      ],
      "metadata": {
        "id": "0I8Bv9ehnzm-",
        "colab": {
          "base_uri": "https://localhost:8080/"
        },
        "outputId": "227154ad-4c2d-4e38-878b-d8af3f89ba40"
      },
      "execution_count": null,
      "outputs": [
        {
          "output_type": "stream",
          "name": "stdout",
          "text": [
            "\n",
            "Decision Tree Regressor Performance Metrics:\n",
            "Mean Absolute Error (MAE): 0.011609178096101796\n",
            "Mean Squared Error (MSE): 0.00028611316439390675\n",
            "Root Mean Squared Error (RMSE): 0.016914879969834453\n",
            "R-squared (R2): 0.9962238232649303\n",
            "\n",
            "Decision Tree Regressor Performance Metrics:\n",
            "Mean Absolute Error (MAE): 0.029954424783404054\n",
            "Mean Squared Error (MSE): 0.00286291914428373\n",
            "Root Mean Squared Error (RMSE): 0.053506253319436696\n",
            "R-squared (R2): 0.9574029389618163\n"
          ]
        }
      ]
    },
    {
      "cell_type": "markdown",
      "source": [
        "# ***d.Random Forest Regression***"
      ],
      "metadata": {
        "id": "nIjSWZdzzz5Q"
      }
    },
    {
      "cell_type": "code",
      "source": [
        "from sklearn.ensemble import RandomForestRegressor\n",
        "random_forest_model = RandomForestRegressor(n_estimators=100, random_state=42)\n",
        "random_forest_model.fit(x_train, y_train_1)\n",
        "y_pred_1 = random_forest_model.predict(x_test)\n",
        "random_forest_model = RandomForestRegressor(n_estimators=100, random_state=42)\n",
        "random_forest_model.fit(x_train, y_train_2)\n",
        "y_pred_2 = random_forest_model.predict(x_test)\n",
        "evaluate_regression(y_test_1, y_pred_1,y_test_2,y_pred_2,\"Random Forest Regressor\")\n"
      ],
      "metadata": {
        "id": "IhJTRHgkn6VE",
        "colab": {
          "base_uri": "https://localhost:8080/"
        },
        "outputId": "07f8b46f-67a2-4225-babc-793a5197e405"
      },
      "execution_count": 42,
      "outputs": [
        {
          "output_type": "stream",
          "name": "stdout",
          "text": [
            "\n",
            "Random Forest Regressor Performance Metrics:\n",
            "Mean Absolute Error (MAE): 0.009656206559684563\n",
            "Mean Squared Error (MSE): 0.00017862449133652984\n",
            "Root Mean Squared Error (RMSE): 0.013365047375020032\n",
            "R-squared (R2): 0.9976424795065703\n",
            "\n",
            "Random Forest Regressor Performance Metrics:\n",
            "Mean Absolute Error (MAE): 0.02880325707150378\n",
            "Mean Squared Error (MSE): 0.002179824306375173\n",
            "Root Mean Squared Error (RMSE): 0.04668858860980028\n",
            "R-squared (R2): 0.9675666323945692\n"
          ]
        }
      ]
    },
    {
      "cell_type": "markdown",
      "source": [
        "# ***e.Gradient Boosting Regression***"
      ],
      "metadata": {
        "id": "kTEiEjRMz7d-"
      }
    },
    {
      "cell_type": "code",
      "source": [
        "from sklearn.ensemble import GradientBoostingRegressor\n",
        "gradient_boosting_model = GradientBoostingRegressor(n_estimators=100, random_state=42)\n",
        "gradient_boosting_model.fit(x_train, y_train_1)\n",
        "y_pred_1 = gradient_boosting_model.predict(x_test)\n",
        "gradient_boosting_model = GradientBoostingRegressor(n_estimators=100, random_state=42)\n",
        "gradient_boosting_model.fit(x_train, y_train_2)\n",
        "y_pred_2 = gradient_boosting_model.predict(x_test)\n",
        "evaluate_regression(y_test_1, y_pred_1,y_test_2,y_pred_2,\"Gradient Boosting Regressor\")"
      ],
      "metadata": {
        "id": "W9t4Oc8KoBa9",
        "colab": {
          "base_uri": "https://localhost:8080/"
        },
        "outputId": "4978f22f-d3bb-4e89-9c52-b293689aabdf"
      },
      "execution_count": null,
      "outputs": [
        {
          "output_type": "stream",
          "name": "stdout",
          "text": [
            "\n",
            "Gradient Boosting Regressor Performance Metrics:\n",
            "Mean Absolute Error (MAE): 0.010411413117876495\n",
            "Mean Squared Error (MSE): 0.00019286047533180969\n",
            "Root Mean Squared Error (RMSE): 0.013887421478871075\n",
            "R-squared (R2): 0.9974545902436708\n",
            "\n",
            "Gradient Boosting Regressor Performance Metrics:\n",
            "Mean Absolute Error (MAE): 0.028475210883911525\n",
            "Mean Squared Error (MSE): 0.0016635887803879968\n",
            "Root Mean Squared Error (RMSE): 0.04078711537223485\n",
            "R-squared (R2): 0.9752476443625325\n"
          ]
        }
      ]
    },
    {
      "cell_type": "markdown",
      "source": [
        "# ***f.Polynomial Regression***"
      ],
      "metadata": {
        "id": "yX8aSnoZ0H_W"
      }
    },
    {
      "cell_type": "markdown",
      "source": [
        "In this we considered **degree=2**"
      ],
      "metadata": {
        "id": "9eYV71vv0VTt"
      }
    },
    {
      "cell_type": "code",
      "source": [
        "from sklearn.preprocessing import PolynomialFeatures\n",
        "degree=2\n",
        "poly_features = PolynomialFeatures(degree=degree)\n",
        "x_train_poly = poly_features.fit_transform(x_train)\n",
        "x_test_poly = poly_features.transform(x_test)\n",
        "linear_model = LinearRegression()\n",
        "linear_model.fit(x_train_poly, y_train_1)\n",
        "y_pred_1 = linear_model.predict(x_test_poly)\n",
        "linear_model = LinearRegression()\n",
        "linear_model.fit(x_train_poly, y_train_2)\n",
        "y_pred_2 = linear_model.predict(x_test_poly)"
      ],
      "metadata": {
        "id": "YaxBv6fQoOi_"
      },
      "execution_count": null,
      "outputs": []
    },
    {
      "cell_type": "code",
      "source": [
        "evaluate_regression(y_test_1, y_pred_1,y_test_2,y_pred_2,\"Polynomial Regression_deg=2\")"
      ],
      "metadata": {
        "colab": {
          "base_uri": "https://localhost:8080/"
        },
        "id": "Sku2rWRXN2Bb",
        "outputId": "e6932000-75c1-4952-c6ca-3fbb5e9f42c7"
      },
      "execution_count": null,
      "outputs": [
        {
          "output_type": "stream",
          "name": "stdout",
          "text": [
            "\n",
            "Polynomial Regression_deg=2 Performance Metrics:\n",
            "Mean Absolute Error (MAE): 0.01629010910129377\n",
            "Mean Squared Error (MSE): 0.000468673337440852\n",
            "Root Mean Squared Error (RMSE): 0.021648864576250922\n",
            "R-squared (R2): 0.9938143588850912\n",
            "\n",
            "Polynomial Regression_deg=2 Performance Metrics:\n",
            "Mean Absolute Error (MAE): 0.03207287971579901\n",
            "Mean Squared Error (MSE): 0.002160853221150482\n",
            "Root Mean Squared Error (RMSE): 0.04648497844627318\n",
            "R-squared (R2): 0.967848901098137\n"
          ]
        }
      ]
    },
    {
      "cell_type": "markdown",
      "source": [
        "In this we considered **degree=3**"
      ],
      "metadata": {
        "id": "KJ6RsT2M0dCE"
      }
    },
    {
      "cell_type": "code",
      "source": [
        "from sklearn.preprocessing import PolynomialFeatures\n",
        "degree=3\n",
        "poly_features = PolynomialFeatures(degree=degree)\n",
        "x_train_poly = poly_features.fit_transform(x_train)\n",
        "x_test_poly = poly_features.transform(x_test)\n",
        "linear_model = LinearRegression()\n",
        "linear_model.fit(x_train_poly, y_train_1)\n",
        "y_pred_1 = linear_model.predict(x_test_poly)\n",
        "linear_model = LinearRegression()\n",
        "linear_model.fit(x_train_poly, y_train_2)\n",
        "y_pred_2 = linear_model.predict(x_test_poly)"
      ],
      "metadata": {
        "id": "GwHB4rLIPQYY"
      },
      "execution_count": null,
      "outputs": []
    },
    {
      "cell_type": "code",
      "source": [
        "evaluate_regression(y_test_1, y_pred_1,y_test_2,y_pred_2,\"Polynomial Regression_deg=3\")"
      ],
      "metadata": {
        "colab": {
          "base_uri": "https://localhost:8080/"
        },
        "id": "b4-buDDbtFy5",
        "outputId": "2360fbc2-2bcb-4471-ecdf-58b481640da9"
      },
      "execution_count": null,
      "outputs": [
        {
          "output_type": "stream",
          "name": "stdout",
          "text": [
            "\n",
            "Polynomial Regression_deg=3 Performance Metrics:\n",
            "Mean Absolute Error (MAE): 0.011074886285206366\n",
            "Mean Squared Error (MSE): 0.00021333372444399837\n",
            "Root Mean Squared Error (RMSE): 0.014605948255556651\n",
            "R-squared (R2): 0.9971843803525863\n",
            "\n",
            "Polynomial Regression_deg=3 Performance Metrics:\n",
            "Mean Absolute Error (MAE): 0.03217514714919718\n",
            "Mean Squared Error (MSE): 0.0020143539396450007\n",
            "Root Mean Squared Error (RMSE): 0.044881554559139336\n",
            "R-squared (R2): 0.9700286478956668\n"
          ]
        }
      ]
    },
    {
      "cell_type": "markdown",
      "source": [
        "In this we considered **degree**=**4**"
      ],
      "metadata": {
        "id": "yUV8xkVC0fsx"
      }
    },
    {
      "cell_type": "code",
      "source": [
        "from sklearn.preprocessing import PolynomialFeatures\n",
        "degree=4\n",
        "poly_features = PolynomialFeatures(degree=degree)\n",
        "x_train_poly = poly_features.fit_transform(x_train)\n",
        "x_test_poly = poly_features.transform(x_test)\n",
        "linear_model = LinearRegression()\n",
        "linear_model.fit(x_train_poly, y_train_1)\n",
        "y_pred_1 = linear_model.predict(x_test_poly)\n",
        "linear_model = LinearRegression()\n",
        "linear_model.fit(x_train_poly, y_train_2)\n",
        "y_pred_2 = linear_model.predict(x_test_poly)"
      ],
      "metadata": {
        "id": "8i_w1jUhPTq3"
      },
      "execution_count": 97,
      "outputs": []
    },
    {
      "cell_type": "code",
      "source": [
        "evaluate_regression(y_test_1, y_pred_1,y_test_2,y_pred_2,\"Polynomial Regression_deg=4\")"
      ],
      "metadata": {
        "colab": {
          "base_uri": "https://localhost:8080/"
        },
        "id": "NxOMFMx6tKzm",
        "outputId": "498fe604-6c1b-4716-f3ce-8c6e821fc514"
      },
      "execution_count": 98,
      "outputs": [
        {
          "output_type": "stream",
          "name": "stdout",
          "text": [
            "\n",
            "Polynomial Regression_deg=4 Performance Metrics:\n",
            "Mean Absolute Error (MAE): 0.0091752666492968\n",
            "Mean Squared Error (MSE): 0.00014934332155129936\n",
            "Root Mean Squared Error (RMSE): 0.012220610522854386\n",
            "R-squared (R2): 0.9980289380337507\n",
            "\n",
            "Polynomial Regression_deg=4 Performance Metrics:\n",
            "Mean Absolute Error (MAE): 0.025553081726663648\n",
            "Mean Squared Error (MSE): 0.0015554118319813202\n",
            "Root Mean Squared Error (RMSE): 0.03943870981638877\n",
            "R-squared (R2): 0.9768571973544165\n"
          ]
        }
      ]
    },
    {
      "cell_type": "markdown",
      "source": [
        "In this we considered **degree = 5**"
      ],
      "metadata": {
        "id": "Js4dYHk90iGS"
      }
    },
    {
      "cell_type": "code",
      "source": [
        "from sklearn.preprocessing import PolynomialFeatures\n",
        "degree=5\n",
        "poly_features = PolynomialFeatures(degree=degree)\n",
        "x_train_poly = poly_features.fit_transform(x_train)\n",
        "x_test_poly = poly_features.transform(x_test)\n",
        "linear_model = LinearRegression()\n",
        "linear_model.fit(x_train_poly, y_train_1)\n",
        "y_pred_1 = linear_model.predict(x_test_poly)\n",
        "linear_model = LinearRegression()\n",
        "linear_model.fit(x_train_poly, y_train_2)\n",
        "y_pred_2 = linear_model.predict(x_test_poly)"
      ],
      "metadata": {
        "id": "-FgXqNtaPV_t"
      },
      "execution_count": null,
      "outputs": []
    },
    {
      "cell_type": "code",
      "source": [
        "evaluate_regression(y_test_1, y_pred_1,y_test_2,y_pred_2,\"Polynomial Regression_deg=5\")\n"
      ],
      "metadata": {
        "colab": {
          "base_uri": "https://localhost:8080/"
        },
        "id": "ASTnHMkltcbL",
        "outputId": "23fec946-e39a-478c-809a-59d553d5493f"
      },
      "execution_count": null,
      "outputs": [
        {
          "output_type": "stream",
          "name": "stdout",
          "text": [
            "\n",
            "Polynomial Regression_deg=5 Performance Metrics:\n",
            "Mean Absolute Error (MAE): 0.00949921557934359\n",
            "Mean Squared Error (MSE): 0.00017381726839564075\n",
            "Root Mean Squared Error (RMSE): 0.013183977715228464\n",
            "R-squared (R2): 0.9977059261622603\n",
            "\n",
            "Polynomial Regression_deg=5 Performance Metrics:\n",
            "Mean Absolute Error (MAE): 0.030493040475114298\n",
            "Mean Squared Error (MSE): 0.0019307801193079227\n",
            "Root Mean Squared Error (RMSE): 0.043940643137167695\n",
            "R-squared (R2): 0.9712721336340611\n"
          ]
        }
      ]
    },
    {
      "cell_type": "markdown",
      "source": [
        "# 6.Model Performance Metrics Overview"
      ],
      "metadata": {
        "id": "COaf0yLCR9kt"
      }
    },
    {
      "cell_type": "markdown",
      "source": [
        "let's create a table that contains all metrics values. This will be easy to find the best model."
      ],
      "metadata": {
        "id": "MAripvy73QB9"
      }
    },
    {
      "cell_type": "code",
      "source": [
        "from tabulate import tabulate\n",
        "#  the models and their corresponding metrics\n",
        "data = {\n",
        "    \"Model\": [\n",
        "        \"SVR_1\", \"SVR_2\", \"Linear Regression_1\", \"Linear Regression_2\",\n",
        "        \"Decision Tree Regressor_1\", \"Decision Tree Regressor_2\",\n",
        "        \"Random Forest Regressor_1\", \"Random Forest Regressor_2\",\n",
        "        \"Gradient Boosting Regressor_1\", \"Gradient Boosting Regressor_2\",\n",
        "        \"Polynomial Regression_deg=2_1\", \"Polynomial Regression_deg=2_2\",\n",
        "        \"Polynomial Regression_deg=3_1\", \"Polynomial Regression_deg=3_2\",\n",
        "        \"Polynomial Regression_deg=4_1\", \"Polynomial Regression_deg=4_2\",\n",
        "        \"Polynomial Regression_deg=5_1\", \"Polynomial Regression_deg=5_2\"\n",
        "    ],\n",
        "    \"MAE\": [\n",
        "        0.0623122925390864, 0.06454294564909405, 0.05883114106572995, 0.05912456801820292,\n",
        "        0.011609178096101796, 0.029954424783404054, 0.009656206559684563, 0.02880325707150378,\n",
        "        0.010411413117876495, 0.028475210883911525, 0.01629010910129377, 0.03207287971579901,\n",
        "        0.011074886285206366, 0.03217514714919718, 0.0091752666492968, 0.025553081726663648,\n",
        "        0.00949921557934359, 0.030493040475114298\n",
        "    ],\n",
        "    \"MSE\": [\n",
        "        0.005126974858004193, 0.006272713513616545, 0.006653630955899004, 0.007176238825425381,\n",
        "        0.00028611316439390675, 0.00286291914428373, 0.00017862449133652984, 0.002179824306375173,\n",
        "        0.00019286047533180969, 0.0016635887803879968, 0.000468673337440852, 0.002160853221150482,\n",
        "        0.00021333372444399837, 0.0020143539396450007, 0.00014934332155129936, 0.0015554118319813202,\n",
        "        0.00017381726839564075, 0.0019307801193079227\n",
        "    ],\n",
        "    \"RMSE\": [\n",
        "        0.07160289699449453, 0.07920046409975477, 0.08156979193242438, 0.08471268397014335,\n",
        "        0.016914879969834453, 0.053506253319436696, 0.013365047375020032, 0.04668858860980028,\n",
        "        0.013887421478871075, 0.04078711537223485, 0.021648864576250922, 0.04648497844627318,\n",
        "        0.014605948255556651, 0.044881554559139336, 0.012220610522854386, 0.03943870981638877,\n",
        "        0.013183977715228464, 0.043940643137167695\n",
        "    ],\n",
        "    \"R-squared (R2)\": [\n",
        "        0.9323331968275725, 0.9066689812221665, 0.9121840951546909, 0.8932255268607286,\n",
        "        0.9962238232649303, 0.9574029389618163, 0.9976424795065703, 0.9675666323945692,\n",
        "        0.9974545902436708, 0.9752476443625325, 0.9938143588850912, 0.967848901098137,\n",
        "        0.9971843803525863, 0.9700286478956668, 0.9980289380337507, 0.9768571973544165,\n",
        "        0.9977059261622603, 0.9712721336340611\n",
        "    ]\n",
        "}\n",
        "df = pd.DataFrame(data)\n",
        "print(tabulate(df, headers='keys', tablefmt='fancy_grid', showindex=False))\n"
      ],
      "metadata": {
        "colab": {
          "base_uri": "https://localhost:8080/"
        },
        "id": "pNtFON63STuq",
        "outputId": "a058af65-a950-491b-90d9-79f2f32313c5"
      },
      "execution_count": null,
      "outputs": [
        {
          "output_type": "stream",
          "name": "stdout",
          "text": [
            "╒═══════════════════════════════╤════════════╤═════════════╤═══════════╤══════════════════╕\n",
            "│ Model                         │        MAE │         MSE │      RMSE │   R-squared (R2) │\n",
            "╞═══════════════════════════════╪════════════╪═════════════╪═══════════╪══════════════════╡\n",
            "│ SVR_1                         │ 0.0623123  │ 0.00512697  │ 0.0716029 │         0.932333 │\n",
            "├───────────────────────────────┼────────────┼─────────────┼───────────┼──────────────────┤\n",
            "│ SVR_2                         │ 0.0645429  │ 0.00627271  │ 0.0792005 │         0.906669 │\n",
            "├───────────────────────────────┼────────────┼─────────────┼───────────┼──────────────────┤\n",
            "│ Linear Regression_1           │ 0.0588311  │ 0.00665363  │ 0.0815698 │         0.912184 │\n",
            "├───────────────────────────────┼────────────┼─────────────┼───────────┼──────────────────┤\n",
            "│ Linear Regression_2           │ 0.0591246  │ 0.00717624  │ 0.0847127 │         0.893226 │\n",
            "├───────────────────────────────┼────────────┼─────────────┼───────────┼──────────────────┤\n",
            "│ Decision Tree Regressor_1     │ 0.0116092  │ 0.000286113 │ 0.0169149 │         0.996224 │\n",
            "├───────────────────────────────┼────────────┼─────────────┼───────────┼──────────────────┤\n",
            "│ Decision Tree Regressor_2     │ 0.0299544  │ 0.00286292  │ 0.0535063 │         0.957403 │\n",
            "├───────────────────────────────┼────────────┼─────────────┼───────────┼──────────────────┤\n",
            "│ Random Forest Regressor_1     │ 0.00965621 │ 0.000178624 │ 0.013365  │         0.997642 │\n",
            "├───────────────────────────────┼────────────┼─────────────┼───────────┼──────────────────┤\n",
            "│ Random Forest Regressor_2     │ 0.0288033  │ 0.00217982  │ 0.0466886 │         0.967567 │\n",
            "├───────────────────────────────┼────────────┼─────────────┼───────────┼──────────────────┤\n",
            "│ Gradient Boosting Regressor_1 │ 0.0104114  │ 0.00019286  │ 0.0138874 │         0.997455 │\n",
            "├───────────────────────────────┼────────────┼─────────────┼───────────┼──────────────────┤\n",
            "│ Gradient Boosting Regressor_2 │ 0.0284752  │ 0.00166359  │ 0.0407871 │         0.975248 │\n",
            "├───────────────────────────────┼────────────┼─────────────┼───────────┼──────────────────┤\n",
            "│ Polynomial Regression_deg=2_1 │ 0.0162901  │ 0.000468673 │ 0.0216489 │         0.993814 │\n",
            "├───────────────────────────────┼────────────┼─────────────┼───────────┼──────────────────┤\n",
            "│ Polynomial Regression_deg=2_2 │ 0.0320729  │ 0.00216085  │ 0.046485  │         0.967849 │\n",
            "├───────────────────────────────┼────────────┼─────────────┼───────────┼──────────────────┤\n",
            "│ Polynomial Regression_deg=3_1 │ 0.0110749  │ 0.000213334 │ 0.0146059 │         0.997184 │\n",
            "├───────────────────────────────┼────────────┼─────────────┼───────────┼──────────────────┤\n",
            "│ Polynomial Regression_deg=3_2 │ 0.0321751  │ 0.00201435  │ 0.0448816 │         0.970029 │\n",
            "├───────────────────────────────┼────────────┼─────────────┼───────────┼──────────────────┤\n",
            "│ Polynomial Regression_deg=4_1 │ 0.00917527 │ 0.000149343 │ 0.0122206 │         0.998029 │\n",
            "├───────────────────────────────┼────────────┼─────────────┼───────────┼──────────────────┤\n",
            "│ Polynomial Regression_deg=4_2 │ 0.0255531  │ 0.00155541  │ 0.0394387 │         0.976857 │\n",
            "├───────────────────────────────┼────────────┼─────────────┼───────────┼──────────────────┤\n",
            "│ Polynomial Regression_deg=5_1 │ 0.00949922 │ 0.000173817 │ 0.013184  │         0.997706 │\n",
            "├───────────────────────────────┼────────────┼─────────────┼───────────┼──────────────────┤\n",
            "│ Polynomial Regression_deg=5_2 │ 0.030493   │ 0.00193078  │ 0.0439406 │         0.971272 │\n",
            "╘═══════════════════════════════╧════════════╧═════════════╧═══════════╧══════════════════╛\n"
          ]
        }
      ]
    },
    {
      "cell_type": "markdown",
      "source": [
        "From this table we found that polynomial regression with degree 4 is the best model.And then Random Forest Regression is also have similar values.\n",
        "\n",
        "\n",
        "\n"
      ],
      "metadata": {
        "id": "Mcx4J9j_3mnl"
      }
    },
    {
      "cell_type": "markdown",
      "source": [
        "# 7.Best Algorithm Selection"
      ],
      "metadata": {
        "id": "h1cJPQqS2d0X"
      }
    },
    {
      "cell_type": "markdown",
      "source": [
        "The best model for Energy Efficency in Buildings Dataset is **Polynomial Regression of Degree 4**"
      ],
      "metadata": {
        "id": "PaelBASC5PZt"
      }
    },
    {
      "cell_type": "markdown",
      "source": [
        "The evaluation metrics of Polynomial Regression of Degree 4 is\n",
        "Polynomial Regression_deg=4 Performance Metrics:\n",
        "\n",
        "Mean Absolute Error (MAE): 0.0091752666492968\n",
        "\n",
        "Mean Squared Error (MSE): 0.00014934332155129936\n",
        "\n",
        "Root Mean Squared Error (RMSE): 0.012220610522854386\n",
        "\n",
        "R-squared (R2): 0.9980289380337507\n",
        "\n",
        "Polynomial Regression_deg=4 Performance Metrics:\n",
        "\n",
        "Mean Absolute Error (MAE): 0.025553081726663648\n",
        "\n",
        "Mean Squared Error (MSE): 0.0015554118319813202\n",
        "\n",
        "Root Mean Squared Error (RMSE): 0.03943870981638877\n",
        "\n",
        "R-squared (R2): 0.9768571973544165\n",
        "\n",
        "\n",
        "\n",
        "# Finally,we have build the best score. ⚡"
      ],
      "metadata": {
        "id": "iec1xSO_i712"
      }
    },
    {
      "cell_type": "markdown",
      "source": [
        "**Inverse** **Trasform**\n",
        "we do this because before we normalize used min max scalar for better perfomance of model.After that we have to unnormalize."
      ],
      "metadata": {
        "id": "yoFiA33_gLaH"
      }
    },
    {
      "cell_type": "code",
      "source": [
        "y_pred_1 = m_y1.inverse_transform(y_pred_1.reshape(-1, 1))\n",
        "y_pred_2 = m_y2.inverse_transform(y_pred_2.reshape(-1, 1))\n",
        "y_test_1 = m_y1.inverse_transform(y_test_1.reshape(-1, 1))\n",
        "y_test_2 = m_y2.inverse_transform(y_test_2.reshape(-1, 1))"
      ],
      "metadata": {
        "id": "iOU_b8ipP6es"
      },
      "execution_count": 101,
      "outputs": []
    },
    {
      "cell_type": "markdown",
      "source": [
        "Round them into 2 decimal points"
      ],
      "metadata": {
        "id": "F7XlAXMKmm7S"
      }
    },
    {
      "cell_type": "code",
      "source": [
        "y_pred_1=np.round(y_pred_1,2)\n",
        "y_pred_2=np.round(y_pred_2,2)\n",
        "y_test_1=np.round(y_test_1,2)\n",
        "y_test_2=np.round(y_test_2,2)"
      ],
      "metadata": {
        "id": "CNJ7yrv1lYiz"
      },
      "execution_count": 104,
      "outputs": []
    },
    {
      "cell_type": "markdown",
      "source": [
        "concatinate the actual and predicted values. To view the results."
      ],
      "metadata": {
        "id": "6zRb7ncsmr1l"
      }
    },
    {
      "cell_type": "code",
      "source": [
        "\n",
        "result_1 = np.concatenate((y_test_1.reshape(len(y_test_1), 1), y_pred_1.reshape(len(y_pred_1), 1)), axis=1)\n",
        "\n",
        "# Concatenate actual and predicted values for y2 (Cooling Load)\n",
        "result_2 = np.concatenate((y_test_2.reshape(len(y_test_2), 1), y_pred_2.reshape(len(y_pred_2), 1)), axis=1)\n",
        "\n",
        "# Output the concatenated results\n",
        "print(\"Result for Heating Load (y1):\\n\", result_1)\n",
        "print(\"Result for Cooling Load (y2):\\n\", result_2)"
      ],
      "metadata": {
        "colab": {
          "base_uri": "https://localhost:8080/"
        },
        "id": "Yyj5xejukmVN",
        "outputId": "d1935dac-0052-4e7d-f021-bb79737d7e58"
      },
      "execution_count": 105,
      "outputs": [
        {
          "output_type": "stream",
          "name": "stdout",
          "text": [
            "Result for Heating Load (y1):\n",
            " [[ 616.88  589.47]\n",
            " [ 494.49  493.44]\n",
            " [1223.3  1215.19]\n",
            " [1538.57 1559.65]\n",
            " [ 625.04  632.93]\n",
            " [ 888.75  873.61]\n",
            " [ 907.67  922.85]\n",
            " [1069.38 1055.54]\n",
            " [ 730.01  711.83]\n",
            " [1047.13 1061.42]\n",
            " [ 690.69  701.43]\n",
            " [1232.95 1222.17]\n",
            " [1110.92 1080.32]\n",
            " [ 390.63  382.75]\n",
            " [ 662.13  691.78]\n",
            " [1376.49 1363.65]\n",
            " [1364.99 1348.91]\n",
            " [ 462.22  457.11]\n",
            " [ 551.23  548.8 ]\n",
            " [1206.98 1228.17]\n",
            " [1069.38 1071.16]\n",
            " [1541.54 1550.91]\n",
            " [ 439.96  427.77]\n",
            " [1373.15 1355.2 ]\n",
            " [ 576.08  570.39]\n",
            " [1337.17 1363.39]\n",
            " [1362.39 1346.38]\n",
            " [1078.28 1081.05]\n",
            " [ 655.09  651.73]\n",
            " [ 524.9   539.78]\n",
            " [ 392.49  395.72]\n",
            " [ 462.22  454.27]\n",
            " [ 633.94  630.75]\n",
            " [1001.51  979.25]\n",
            " [1339.02 1338.63]\n",
            " [1051.21 1051.3 ]\n",
            " [1219.59 1213.14]\n",
            " [1374.63 1372.78]\n",
            " [1343.48 1329.87]\n",
            " [ 402.87  402.78]\n",
            " [1050.09 1051.26]\n",
            " [ 462.96  457.87]\n",
            " [ 242.27  236.68]\n",
            " [1186.96 1198.82]\n",
            " [ 257.85  252.65]\n",
            " [ 243.39  250.  ]\n",
            " [ 269.35  287.52]\n",
            " [ 406.58  403.76]\n",
            " [1069.01 1062.98]\n",
            " [1209.95 1215.47]\n",
            " [1302.31 1327.1 ]\n",
            " [ 485.58  486.18]\n",
            " [ 488.18  487.01]\n",
            " [1494.06 1456.26]\n",
            " [ 461.1   469.68]\n",
            " [ 574.23  571.3 ]\n",
            " [ 467.78  462.98]\n",
            " [ 918.42  942.51]\n",
            " [1514.83 1475.54]\n",
            " [1340.88 1348.83]\n",
            " [ 538.99  518.08]\n",
            " [ 619.48  591.63]\n",
            " [ 488.92  481.28]\n",
            " [ 855.    878.75]\n",
            " [1067.15 1073.39]\n",
            " [1382.05 1374.95]\n",
            " [1320.85 1370.93]\n",
            " [ 439.22  437.46]\n",
            " [ 488.18  482.48]\n",
            " [ 452.2   452.52]\n",
            " [1086.81 1085.6 ]\n",
            " [1224.05 1235.18]\n",
            " [ 468.52  471.12]\n",
            " [ 904.7   885.77]\n",
            " [1179.54 1184.71]\n",
            " [ 457.02  456.64]\n",
            " [1083.85 1062.49]\n",
            " [ 922.13  946.18]\n",
            " [1202.53 1208.43]\n",
            " [ 723.33  732.66]\n",
            " [ 910.26  909.66]\n",
            " [1489.61 1453.69]\n",
            " [ 402.13  400.27]\n",
            " [ 521.93  523.42]\n",
            " [ 436.25  424.49]\n",
            " [ 467.04  514.21]\n",
            " [ 987.41  983.2 ]\n",
            " [1346.07 1376.13]\n",
            " [1382.79 1365.38]\n",
            " [ 650.26  654.24]\n",
            " [ 569.04  574.88]\n",
            " [ 947.35  974.5 ]\n",
            " [ 418.82  423.13]\n",
            " [ 486.33  489.64]\n",
            " [1363.13 1352.74]\n",
            " [ 482.99  484.61]\n",
            " [ 946.61  975.34]\n",
            " [1056.03 1063.09]\n",
            " [ 401.39  406.48]\n",
            " [ 403.24  410.11]\n",
            " [1518.54 1531.11]\n",
            " [1058.25 1053.22]\n",
            " [ 390.26  399.9 ]\n",
            " [1112.4  1073.99]\n",
            " [1097.57 1079.94]\n",
            " [ 627.64  594.82]\n",
            " [ 843.5   838.36]\n",
            " [ 615.77  596.77]\n",
            " [ 528.24  541.09]\n",
            " [ 466.3   466.93]\n",
            " [1234.43 1217.56]\n",
            " [1204.39 1229.09]\n",
            " [ 919.54  921.79]\n",
            " [ 551.97  563.76]\n",
            " [ 439.59  449.39]\n",
            " [ 549.75  544.44]\n",
            " [ 421.42  435.66]\n",
            " [ 391.38  380.9 ]\n",
            " [ 455.54  466.43]\n",
            " [ 735.94  749.84]\n",
            " [1083.85 1065.49]\n",
            " [ 419.93  435.09]\n",
            " [ 893.57  918.12]\n",
            " [ 547.52  551.89]\n",
            " [1106.84 1090.09]\n",
            " [ 669.18  686.78]\n",
            " [ 544.93  541.53]\n",
            " [1321.96 1366.97]\n",
            " [ 904.7   910.09]\n",
            " [1488.5  1532.44]\n",
            " [ 582.76  584.44]\n",
            " [1204.39 1245.35]\n",
            " [ 547.52  555.86]\n",
            " [ 524.16  541.61]\n",
            " [ 540.11  532.64]\n",
            " [ 710.72  701.19]\n",
            " [1195.12 1213.27]\n",
            " [1599.4  1562.96]\n",
            " [ 543.82  536.31]\n",
            " [ 706.27  716.83]\n",
            " [ 404.73  408.3 ]\n",
            " [1511.86 1483.04]\n",
            " [1064.93 1068.89]\n",
            " [1175.46 1201.05]\n",
            " [1331.24 1327.26]\n",
            " [ 429.58  432.57]\n",
            " [ 379.51  385.24]\n",
            " [1047.87 1059.8 ]\n",
            " [1304.53 1317.79]\n",
            " [1451.78 1460.38]\n",
            " [1365.73 1351.43]\n",
            " [1094.23 1087.75]\n",
            " [1101.65 1099.31]\n",
            " [ 457.4   456.81]]\n",
            "Result for Cooling Load (y2):\n",
            " [[ 638.4   611.97]\n",
            " [ 619.46  618.02]\n",
            " [1228.02 1214.7 ]\n",
            " [1727.42 1613.24]\n",
            " [ 744.59  766.63]\n",
            " [ 924.67 1046.26]\n",
            " [ 962.54  988.8 ]\n",
            " [1110.69 1119.04]\n",
            " [ 854.49  859.83]\n",
            " [1278.52 1219.72]\n",
            " [ 810.31  808.52]\n",
            " [1277.4  1322.69]\n",
            " [1121.83 1197.03]\n",
            " [ 509.93  482.93]\n",
            " [ 783.95  754.05]\n",
            " [1379.88 1378.45]\n",
            " [1385.08 1346.76]\n",
            " [ 576.76  566.8 ]\n",
            " [ 633.57  614.17]\n",
            " [1259.21 1301.56]\n",
            " [1215.03 1159.37]\n",
            " [1692.52 1690.39]\n",
            " [ 526.26  541.87]\n",
            " [1282.6  1510.92]\n",
            " [ 723.05  694.18]\n",
            " [1618.63 1458.45]\n",
            " [1324.93 1371.79]\n",
            " [1111.43 1086.62]\n",
            " [ 795.46  796.97]\n",
            " [ 543.72  549.22]\n",
            " [ 508.07  464.24]\n",
            " [ 584.19  594.57]\n",
            " [ 754.61  760.82]\n",
            " [1131.11 1075.99]\n",
            " [1619.74 1537.32]\n",
            " [1131.48 1117.34]\n",
            " [1265.15 1275.45]\n",
            " [1289.29 1322.95]\n",
            " [1308.22 1372.67]\n",
            " [ 525.89  516.15]\n",
            " [1124.8  1151.71]\n",
            " [ 564.88  579.83]\n",
            " [ 430.1   396.95]\n",
            " [1184.21 1169.9 ]\n",
            " [ 458.32  479.12]\n",
            " [ 444.21  357.16]\n",
            " [ 461.66  416.61]\n",
            " [ 541.12  526.72]\n",
            " [1300.42 1342.87]\n",
            " [1333.47 1311.73]\n",
            " [1311.94 1348.34]\n",
            " [ 598.67  620.11]\n",
            " [ 600.15  617.  ]\n",
            " [1394.36 1565.99]\n",
            " [ 566.74  548.26]\n",
            " [ 731.96  737.04]\n",
            " [ 571.56  568.1 ]\n",
            " [1099.18 1156.03]\n",
            " [1509.47 1477.11]\n",
            " [1350.18 1384.08]\n",
            " [ 625.03  648.45]\n",
            " [ 637.65  585.89]\n",
            " [ 607.21  605.41]\n",
            " [1083.21 1090.6 ]\n",
            " [1132.23 1128.35]\n",
            " [1321.22 1464.3 ]\n",
            " [1565.16 1462.51]\n",
            " [ 527.01  524.02]\n",
            " [ 548.17  521.3 ]\n",
            " [ 522.92  552.39]\n",
            " [1109.21 1134.26]\n",
            " [1231.73 1176.27]\n",
            " [ 573.05  586.67]\n",
            " [ 939.89  960.84]\n",
            " [1379.51 1258.09]\n",
            " [ 574.53  579.82]\n",
            " [1267.38 1244.31]\n",
            " [1079.13 1092.41]\n",
            " [1249.93 1279.1 ]\n",
            " [ 883.08  799.54]\n",
            " [ 972.94  991.09]\n",
            " [1357.23 1571.85]\n",
            " [ 541.86  533.38]\n",
            " [ 563.77  578.25]\n",
            " [ 519.58  536.02]\n",
            " [ 589.76  587.81]\n",
            " [1028.26 1009.11]\n",
            " [1406.25 1404.43]\n",
            " [1320.85 1346.13]\n",
            " [ 793.6   796.55]\n",
            " [ 728.99  729.26]\n",
            " [1003.01 1003.69]\n",
            " [ 553.37  539.43]\n",
            " [ 603.12  633.26]\n",
            " [1363.92 1387.45]\n",
            " [ 611.29  617.16]\n",
            " [1200.55 1189.57]\n",
            " [1278.89 1287.49]\n",
            " [ 518.47  563.45]\n",
            " [ 523.29  499.28]\n",
            " [1479.39 1512.53]\n",
            " [1098.07 1081.43]\n",
            " [ 509.56  472.16]\n",
            " [1118.12 1181.71]\n",
            " [1064.65 1152.42]\n",
            " [ 655.48  629.96]\n",
            " [1069.48 1086.76]\n",
            " [ 645.82  626.3 ]\n",
            " [ 642.85  635.6 ]\n",
            " [ 578.25  573.6 ]\n",
            " [1279.63 1282.24]\n",
            " [1113.29 1046.81]\n",
            " [ 990.02  971.26]\n",
            " [ 682.95  674.9 ]\n",
            " [ 558.94  560.34]\n",
            " [ 655.85  634.35]\n",
            " [ 557.82  541.81]\n",
            " [ 515.87  472.41]\n",
            " [ 566.74  556.31]\n",
            " [1109.95 1054.89]\n",
            " [1100.29 1237.54]\n",
            " [ 545.2   552.25]\n",
            " [1102.52 1099.08]\n",
            " [ 578.99  586.44]\n",
            " [1104.01 1167.1 ]\n",
            " [ 805.48  800.26]\n",
            " [ 638.4   657.58]\n",
            " [1542.88 1543.46]\n",
            " [ 965.88  990.59]\n",
            " [1527.66 1522.25]\n",
            " [ 802.88  750.04]\n",
            " [1275.18 1290.51]\n",
            " [ 573.05  584.71]\n",
            " [ 607.95  601.68]\n",
            " [ 652.14  644.22]\n",
            " [ 837.04  823.69]\n",
            " [1336.81 1248.36]\n",
            " [1479.76 1604.42]\n",
            " [ 643.22  659.32]\n",
            " [ 830.36  832.58]\n",
            " [ 540.75  512.65]\n",
            " [1490.53 1501.38]\n",
            " [1109.58 1131.58]\n",
            " [1391.76 1309.25]\n",
            " [1493.13 1356.24]\n",
            " [ 558.57  546.69]\n",
            " [ 501.39  530.11]\n",
            " [1285.57 1230.61]\n",
            " [1241.39 1320.02]\n",
            " [1717.77 1573.07]\n",
            " [1344.61 1383.23]\n",
            " [1249.93 1252.26]\n",
            " [1272.58 1239.17]\n",
            " [ 575.28  582.35]]\n"
          ]
        }
      ]
    },
    {
      "cell_type": "markdown",
      "source": [
        "# 8 .Visualize the actual and predicted values"
      ],
      "metadata": {
        "id": "fRxa2Zh0m1e-"
      }
    },
    {
      "cell_type": "code",
      "source": [
        "plt.figure(figsize=(12, 6))\n",
        "\n",
        "# Subplot 1: Heating Load\n",
        "plt.subplot(1, 2, 1)\n",
        "plt.plot(y_test_1, y_pred_1, 'bo', label='Predicted vs Actual')\n",
        "plt.plot([min(y_test_1), max(y_test_1)], [min(y_test_1), max(y_test_1)], 'r-', label='Perfect Prediction')\n",
        "plt.xlabel('Actual Heating Load (y_test_1)')\n",
        "plt.ylabel('Predicted Heating Load (y_pred_1)')\n",
        "plt.title('Heating Load: Actual vs Predicted')\n",
        "plt.legend()\n",
        "\n",
        "# Subplot 2: Cooling Load\n",
        "plt.subplot(1, 2, 2)\n",
        "plt.plot(y_test_2, y_pred_2, 'bo', label='Predicted vs Actual')\n",
        "plt.plot([min(y_test_2), max(y_test_2)], [min(y_test_2), max(y_test_2)], 'r-', label='Perfect Prediction')\n",
        "plt.xlabel('Actual Cooling Load (y_test_2)')\n",
        "plt.ylabel('Predicted Cooling Load (y_pred_2)')\n",
        "plt.title('Cooling Load: Actual vs Predicted')\n",
        "plt.legend()\n",
        "\n",
        "# Show the plots\n",
        "plt.tight_layout()\n",
        "plt.show()"
      ],
      "metadata": {
        "colab": {
          "base_uri": "https://localhost:8080/",
          "height": 627
        },
        "id": "Db86rF_JRsJq",
        "outputId": "659b2cea-503e-449d-a37b-d4482716fc32"
      },
      "execution_count": 106,
      "outputs": [
        {
          "output_type": "display_data",
          "data": {
            "text/plain": [
              "<Figure size 1200x600 with 2 Axes>"
            ],
            "image/png": "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\n"
          },
          "metadata": {}
        }
      ]
    },
    {
      "cell_type": "code",
      "source": [
        "plt.figure(figsize=(10, 6))\n",
        "plt.plot(y_test_1, label='Actual Values')\n",
        "plt.plot(y_pred_1, label='Predicted Values', alpha=0.7)\n",
        "plt.title('Comparison of Actual and Predicted Values')\n",
        "plt.xlabel('Sample index')\n",
        "plt.ylabel('Value of y')\n",
        "plt.legend()\n",
        "plt.show()"
      ],
      "metadata": {
        "colab": {
          "base_uri": "https://localhost:8080/",
          "height": 564
        },
        "id": "YF2DTUsqR_0k",
        "outputId": "591cb5ad-95dd-4516-8855-db778f40dbfb"
      },
      "execution_count": 50,
      "outputs": [
        {
          "output_type": "display_data",
          "data": {
            "text/plain": [
              "<Figure size 1000x600 with 1 Axes>"
            ],
            "image/png": "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\n"
          },
          "metadata": {}
        }
      ]
    },
    {
      "cell_type": "markdown",
      "source": [
        "# This is the best model."
      ],
      "metadata": {
        "id": "6yTz0i4jnU9Y"
      }
    }
  ]
}
